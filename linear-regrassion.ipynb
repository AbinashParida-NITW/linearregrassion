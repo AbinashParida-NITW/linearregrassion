{
 "cells": [
  {
   "cell_type": "code",
   "execution_count": 1,
   "id": "4413f7a0",
   "metadata": {
    "_cell_guid": "b1076dfc-b9ad-4769-8c92-a6c4dae69d19",
    "_uuid": "8f2839f25d086af736a60e9eeb907d3b93b6e0e5",
    "execution": {
     "iopub.execute_input": "2024-02-12T08:40:27.058551Z",
     "iopub.status.busy": "2024-02-12T08:40:27.057907Z",
     "iopub.status.idle": "2024-02-12T08:40:27.936156Z",
     "shell.execute_reply": "2024-02-12T08:40:27.935111Z"
    },
    "papermill": {
     "duration": 0.908451,
     "end_time": "2024-02-12T08:40:27.938990",
     "exception": false,
     "start_time": "2024-02-12T08:40:27.030539",
     "status": "completed"
    },
    "tags": []
   },
   "outputs": [],
   "source": [
    "# This Python 3 environment comes with many helpful analytics libraries installed\n",
    "# It is defined by the kaggle/python Docker image: https://github.com/kaggle/docker-python\n",
    "# For example, here's several helpful packages to load\n",
    "\n",
    "import numpy as np # linear algebra\n",
    "import pandas as pd # data processing, CSV file I/O (e.g. pd.read_csv)\n",
    "\n",
    "# Input data files are available in the read-only \"../input/\" directory\n",
    "# For example, running this (by clicking run or pressing Shift+Enter) will list all files under the input directory\n",
    "\n",
    "import os\n",
    "for dirname, _, filenames in os.walk('/kaggle/input'):\n",
    "    for filename in filenames:\n",
    "        print(os.path.join(dirname, filename))\n",
    "\n",
    "# You can write up to 20GB to the current directory (/kaggle/working/) that gets preserved as output when you create a version using \"Save & Run All\" \n",
    "# You can also write temporary files to /kaggle/temp/, but they won't be saved outside of the current session"
   ]
  },
  {
   "cell_type": "code",
   "execution_count": 2,
   "id": "8cf5ebee",
   "metadata": {
    "execution": {
     "iopub.execute_input": "2024-02-12T08:40:27.988875Z",
     "iopub.status.busy": "2024-02-12T08:40:27.988369Z",
     "iopub.status.idle": "2024-02-12T08:40:29.533500Z",
     "shell.execute_reply": "2024-02-12T08:40:29.532188Z"
    },
    "papermill": {
     "duration": 1.573747,
     "end_time": "2024-02-12T08:40:29.536441",
     "exception": false,
     "start_time": "2024-02-12T08:40:27.962694",
     "status": "completed"
    },
    "tags": []
   },
   "outputs": [],
   "source": [
    "import numpy as np\n",
    "import pandas as pd\n",
    "import matplotlib.pyplot as plt\n",
    "import seaborn as sns\n",
    "import sklearn as sk"
   ]
  },
  {
   "cell_type": "code",
   "execution_count": 3,
   "id": "0071d330",
   "metadata": {
    "execution": {
     "iopub.execute_input": "2024-02-12T08:40:29.586659Z",
     "iopub.status.busy": "2024-02-12T08:40:29.585826Z",
     "iopub.status.idle": "2024-02-12T08:40:29.590979Z",
     "shell.execute_reply": "2024-02-12T08:40:29.590215Z"
    },
    "papermill": {
     "duration": 0.032756,
     "end_time": "2024-02-12T08:40:29.593254",
     "exception": false,
     "start_time": "2024-02-12T08:40:29.560498",
     "status": "completed"
    },
    "tags": []
   },
   "outputs": [],
   "source": [
    "X=np.random.rand(100,1)"
   ]
  },
  {
   "cell_type": "code",
   "execution_count": 4,
   "id": "c9639a22",
   "metadata": {
    "execution": {
     "iopub.execute_input": "2024-02-12T08:40:29.643290Z",
     "iopub.status.busy": "2024-02-12T08:40:29.641856Z",
     "iopub.status.idle": "2024-02-12T08:40:29.647755Z",
     "shell.execute_reply": "2024-02-12T08:40:29.646971Z"
    },
    "papermill": {
     "duration": 0.033305,
     "end_time": "2024-02-12T08:40:29.650072",
     "exception": false,
     "start_time": "2024-02-12T08:40:29.616767",
     "status": "completed"
    },
    "tags": []
   },
   "outputs": [],
   "source": [
    "y=4 + 3* X+ np.random.randn(100,1)"
   ]
  },
  {
   "cell_type": "code",
   "execution_count": 5,
   "id": "36621b75",
   "metadata": {
    "execution": {
     "iopub.execute_input": "2024-02-12T08:40:29.699243Z",
     "iopub.status.busy": "2024-02-12T08:40:29.698483Z",
     "iopub.status.idle": "2024-02-12T08:40:30.053822Z",
     "shell.execute_reply": "2024-02-12T08:40:30.052694Z"
    },
    "papermill": {
     "duration": 0.382671,
     "end_time": "2024-02-12T08:40:30.056346",
     "exception": false,
     "start_time": "2024-02-12T08:40:29.673675",
     "status": "completed"
    },
    "tags": []
   },
   "outputs": [
    {
     "data": {
      "text/plain": [
       "<matplotlib.collections.PathCollection at 0x7c6523bdb700>"
      ]
     },
     "execution_count": 5,
     "metadata": {},
     "output_type": "execute_result"
    },
    {
     "data": {
      "image/png": "[encoded data removed]",
      "text/plain": [
       "<Figure size 640x480 with 1 Axes>"
      ]
     },
     "metadata": {},
     "output_type": "display_data"
    }
   ],
   "source": [
    "plt.scatter(X,y)"
   ]
  },
  {
   "cell_type": "code",
   "execution_count": 6,
   "id": "9cd6032d",
   "metadata": {
    "execution": {
     "iopub.execute_input": "2024-02-12T08:40:30.106969Z",
     "iopub.status.busy": "2024-02-12T08:40:30.106142Z",
     "iopub.status.idle": "2024-02-12T08:40:30.111146Z",
     "shell.execute_reply": "2024-02-12T08:40:30.110311Z"
    },
    "papermill": {
     "duration": 0.033255,
     "end_time": "2024-02-12T08:40:30.113652",
     "exception": false,
     "start_time": "2024-02-12T08:40:30.080397",
     "status": "completed"
    },
    "tags": []
   },
   "outputs": [],
   "source": [
    "# creatre a column matrix of ones then concantinate with feature vector \n",
    "X_b = np.c_[np.ones((100, 1)), X]"
   ]
  },
  {
   "cell_type": "code",
   "execution_count": 7,
   "id": "78f1ee25",
   "metadata": {
    "execution": {
     "iopub.execute_input": "2024-02-12T08:40:30.165534Z",
     "iopub.status.busy": "2024-02-12T08:40:30.164735Z",
     "iopub.status.idle": "2024-02-12T08:40:30.175020Z",
     "shell.execute_reply": "2024-02-12T08:40:30.173902Z"
    },
    "papermill": {
     "duration": 0.039483,
     "end_time": "2024-02-12T08:40:30.177308",
     "exception": false,
     "start_time": "2024-02-12T08:40:30.137825",
     "status": "completed"
    },
    "tags": []
   },
   "outputs": [
    {
     "data": {
      "text/plain": [
       "array([[1.        , 0.14907855],\n",
       "       [1.        , 0.12850507],\n",
       "       [1.        , 0.7132799 ],\n",
       "       [1.        , 0.10855665],\n",
       "       [1.        , 0.61097042],\n",
       "       [1.        , 0.80647218],\n",
       "       [1.        , 0.89400861],\n",
       "       [1.        , 0.33543657],\n",
       "       [1.        , 0.71506817],\n",
       "       [1.        , 0.34949107],\n",
       "       [1.        , 0.09960897],\n",
       "       [1.        , 0.28045996],\n",
       "       [1.        , 0.25611018],\n",
       "       [1.        , 0.95426108],\n",
       "       [1.        , 0.98381464],\n",
       "       [1.        , 0.35119606],\n",
       "       [1.        , 0.98770782],\n",
       "       [1.        , 0.48838086],\n",
       "       [1.        , 0.63565812],\n",
       "       [1.        , 0.05127234],\n",
       "       [1.        , 0.61942109],\n",
       "       [1.        , 0.58687721],\n",
       "       [1.        , 0.04622108],\n",
       "       [1.        , 0.90069747],\n",
       "       [1.        , 0.57504948],\n",
       "       [1.        , 0.80359302],\n",
       "       [1.        , 0.23410214],\n",
       "       [1.        , 0.76126461],\n",
       "       [1.        , 0.92831925],\n",
       "       [1.        , 0.44736422],\n",
       "       [1.        , 0.46213721],\n",
       "       [1.        , 0.00545144],\n",
       "       [1.        , 0.24385016],\n",
       "       [1.        , 0.01988557],\n",
       "       [1.        , 0.17018256],\n",
       "       [1.        , 0.72681815],\n",
       "       [1.        , 0.92098358],\n",
       "       [1.        , 0.36363558],\n",
       "       [1.        , 0.53682641],\n",
       "       [1.        , 0.7965573 ],\n",
       "       [1.        , 0.85694294],\n",
       "       [1.        , 0.53371478],\n",
       "       [1.        , 0.37240506],\n",
       "       [1.        , 0.23433104],\n",
       "       [1.        , 0.96528663],\n",
       "       [1.        , 0.64252472],\n",
       "       [1.        , 0.87528594],\n",
       "       [1.        , 0.21254872],\n",
       "       [1.        , 0.90452224],\n",
       "       [1.        , 0.92660995],\n",
       "       [1.        , 0.49905147],\n",
       "       [1.        , 0.91978554],\n",
       "       [1.        , 0.4948896 ],\n",
       "       [1.        , 0.87162073],\n",
       "       [1.        , 0.57126016],\n",
       "       [1.        , 0.82128357],\n",
       "       [1.        , 0.07831117],\n",
       "       [1.        , 0.4201826 ],\n",
       "       [1.        , 0.13811466],\n",
       "       [1.        , 0.07807265],\n",
       "       [1.        , 0.54923201],\n",
       "       [1.        , 0.13463453],\n",
       "       [1.        , 0.21259694],\n",
       "       [1.        , 0.45918154],\n",
       "       [1.        , 0.87115335],\n",
       "       [1.        , 0.61508487],\n",
       "       [1.        , 0.23635493],\n",
       "       [1.        , 0.02420594],\n",
       "       [1.        , 0.24716019],\n",
       "       [1.        , 0.58238537],\n",
       "       [1.        , 0.55444679],\n",
       "       [1.        , 0.21367345],\n",
       "       [1.        , 0.55031965],\n",
       "       [1.        , 0.34283423],\n",
       "       [1.        , 0.36728349],\n",
       "       [1.        , 0.13591502],\n",
       "       [1.        , 0.5491688 ],\n",
       "       [1.        , 0.44911147],\n",
       "       [1.        , 0.36125513],\n",
       "       [1.        , 0.1837457 ],\n",
       "       [1.        , 0.76027166],\n",
       "       [1.        , 0.63840235],\n",
       "       [1.        , 0.83501175],\n",
       "       [1.        , 0.47561573],\n",
       "       [1.        , 0.79769603],\n",
       "       [1.        , 0.70567283],\n",
       "       [1.        , 0.64282412],\n",
       "       [1.        , 0.62350209],\n",
       "       [1.        , 0.06390119],\n",
       "       [1.        , 0.01931093],\n",
       "       [1.        , 0.82315752],\n",
       "       [1.        , 0.00553888],\n",
       "       [1.        , 0.99211219],\n",
       "       [1.        , 0.48492915],\n",
       "       [1.        , 0.57414622],\n",
       "       [1.        , 0.46839543],\n",
       "       [1.        , 0.39133758],\n",
       "       [1.        , 0.30202836],\n",
       "       [1.        , 0.15445178],\n",
       "       [1.        , 0.6108522 ]])"
      ]
     },
     "execution_count": 7,
     "metadata": {},
     "output_type": "execute_result"
    }
   ],
   "source": [
    "X_b"
   ]
  },
  {
   "cell_type": "code",
   "execution_count": 8,
   "id": "e0092b94",
   "metadata": {
    "execution": {
     "iopub.execute_input": "2024-02-12T08:40:30.228136Z",
     "iopub.status.busy": "2024-02-12T08:40:30.227328Z",
     "iopub.status.idle": "2024-02-12T08:40:30.233450Z",
     "shell.execute_reply": "2024-02-12T08:40:30.232488Z"
    },
    "papermill": {
     "duration": 0.034035,
     "end_time": "2024-02-12T08:40:30.235623",
     "exception": false,
     "start_time": "2024-02-12T08:40:30.201588",
     "status": "completed"
    },
    "tags": []
   },
   "outputs": [
    {
     "data": {
      "text/plain": [
       "100"
      ]
     },
     "execution_count": 8,
     "metadata": {},
     "output_type": "execute_result"
    }
   ],
   "source": [
    "len(X_b)"
   ]
  },
  {
   "cell_type": "code",
   "execution_count": 9,
   "id": "fd91ac40",
   "metadata": {
    "execution": {
     "iopub.execute_input": "2024-02-12T08:40:30.286716Z",
     "iopub.status.busy": "2024-02-12T08:40:30.285973Z",
     "iopub.status.idle": "2024-02-12T08:40:30.291727Z",
     "shell.execute_reply": "2024-02-12T08:40:30.290679Z"
    },
    "papermill": {
     "duration": 0.034227,
     "end_time": "2024-02-12T08:40:30.294166",
     "exception": false,
     "start_time": "2024-02-12T08:40:30.259939",
     "status": "completed"
    },
    "tags": []
   },
   "outputs": [],
   "source": [
    "theta_best=np.linalg.inv(X_b.T.dot(X_b)).dot(X_b.T).dot(y)"
   ]
  },
  {
   "cell_type": "code",
   "execution_count": 10,
   "id": "1b4db003",
   "metadata": {
    "execution": {
     "iopub.execute_input": "2024-02-12T08:40:30.344801Z",
     "iopub.status.busy": "2024-02-12T08:40:30.344416Z",
     "iopub.status.idle": "2024-02-12T08:40:30.350595Z",
     "shell.execute_reply": "2024-02-12T08:40:30.349784Z"
    },
    "papermill": {
     "duration": 0.034009,
     "end_time": "2024-02-12T08:40:30.352723",
     "exception": false,
     "start_time": "2024-02-12T08:40:30.318714",
     "status": "completed"
    },
    "tags": []
   },
   "outputs": [
    {
     "data": {
      "text/plain": [
       "array([[3.84896888],\n",
       "       [3.33858173]])"
      ]
     },
     "execution_count": 10,
     "metadata": {},
     "output_type": "execute_result"
    }
   ],
   "source": [
    "theta_best"
   ]
  },
  {
   "cell_type": "code",
   "execution_count": 11,
   "id": "90c64bf0",
   "metadata": {
    "execution": {
     "iopub.execute_input": "2024-02-12T08:40:30.404763Z",
     "iopub.status.busy": "2024-02-12T08:40:30.404138Z",
     "iopub.status.idle": "2024-02-12T08:40:30.408141Z",
     "shell.execute_reply": "2024-02-12T08:40:30.407391Z"
    },
    "papermill": {
     "duration": 0.032652,
     "end_time": "2024-02-12T08:40:30.410254",
     "exception": false,
     "start_time": "2024-02-12T08:40:30.377602",
     "status": "completed"
    },
    "tags": []
   },
   "outputs": [],
   "source": [
    " X_new = np.array([[0], [2]])"
   ]
  },
  {
   "cell_type": "code",
   "execution_count": 12,
   "id": "fe3d4638",
   "metadata": {
    "execution": {
     "iopub.execute_input": "2024-02-12T08:40:30.461402Z",
     "iopub.status.busy": "2024-02-12T08:40:30.460962Z",
     "iopub.status.idle": "2024-02-12T08:40:30.467955Z",
     "shell.execute_reply": "2024-02-12T08:40:30.466887Z"
    },
    "papermill": {
     "duration": 0.035712,
     "end_time": "2024-02-12T08:40:30.470363",
     "exception": false,
     "start_time": "2024-02-12T08:40:30.434651",
     "status": "completed"
    },
    "tags": []
   },
   "outputs": [
    {
     "data": {
      "text/plain": [
       "(2, 1)"
      ]
     },
     "execution_count": 12,
     "metadata": {},
     "output_type": "execute_result"
    }
   ],
   "source": [
    "X_new.shape"
   ]
  },
  {
   "cell_type": "code",
   "execution_count": 13,
   "id": "35a334a5",
   "metadata": {
    "execution": {
     "iopub.execute_input": "2024-02-12T08:40:30.521896Z",
     "iopub.status.busy": "2024-02-12T08:40:30.521502Z",
     "iopub.status.idle": "2024-02-12T08:40:30.526728Z",
     "shell.execute_reply": "2024-02-12T08:40:30.525638Z"
    },
    "papermill": {
     "duration": 0.033406,
     "end_time": "2024-02-12T08:40:30.528930",
     "exception": false,
     "start_time": "2024-02-12T08:40:30.495524",
     "status": "completed"
    },
    "tags": []
   },
   "outputs": [],
   "source": [
    "X_new_b=np.c_[np.ones((2,1)),X_new]"
   ]
  },
  {
   "cell_type": "code",
   "execution_count": 14,
   "id": "bcad5870",
   "metadata": {
    "execution": {
     "iopub.execute_input": "2024-02-12T08:40:30.581307Z",
     "iopub.status.busy": "2024-02-12T08:40:30.580837Z",
     "iopub.status.idle": "2024-02-12T08:40:30.587704Z",
     "shell.execute_reply": "2024-02-12T08:40:30.586578Z"
    },
    "papermill": {
     "duration": 0.036202,
     "end_time": "2024-02-12T08:40:30.590012",
     "exception": false,
     "start_time": "2024-02-12T08:40:30.553810",
     "status": "completed"
    },
    "tags": []
   },
   "outputs": [
    {
     "data": {
      "text/plain": [
       "array([[1., 0.],\n",
       "       [1., 2.]])"
      ]
     },
     "execution_count": 14,
     "metadata": {},
     "output_type": "execute_result"
    }
   ],
   "source": [
    "X_new_b"
   ]
  },
  {
   "cell_type": "code",
   "execution_count": 15,
   "id": "c087e4fc",
   "metadata": {
    "execution": {
     "iopub.execute_input": "2024-02-12T08:40:30.641917Z",
     "iopub.status.busy": "2024-02-12T08:40:30.641511Z",
     "iopub.status.idle": "2024-02-12T08:40:30.646416Z",
     "shell.execute_reply": "2024-02-12T08:40:30.645362Z"
    },
    "papermill": {
     "duration": 0.033643,
     "end_time": "2024-02-12T08:40:30.648822",
     "exception": false,
     "start_time": "2024-02-12T08:40:30.615179",
     "status": "completed"
    },
    "tags": []
   },
   "outputs": [],
   "source": [
    "y_pred=X_new_b.dot(theta_best)"
   ]
  },
  {
   "cell_type": "code",
   "execution_count": 16,
   "id": "76b6dbcf",
   "metadata": {
    "execution": {
     "iopub.execute_input": "2024-02-12T08:40:30.700973Z",
     "iopub.status.busy": "2024-02-12T08:40:30.700540Z",
     "iopub.status.idle": "2024-02-12T08:40:30.707537Z",
     "shell.execute_reply": "2024-02-12T08:40:30.706484Z"
    },
    "papermill": {
     "duration": 0.035216,
     "end_time": "2024-02-12T08:40:30.709784",
     "exception": false,
     "start_time": "2024-02-12T08:40:30.674568",
     "status": "completed"
    },
    "tags": []
   },
   "outputs": [
    {
     "data": {
      "text/plain": [
       "array([[ 3.84896888],\n",
       "       [10.52613234]])"
      ]
     },
     "execution_count": 16,
     "metadata": {},
     "output_type": "execute_result"
    }
   ],
   "source": [
    "y_pred"
   ]
  },
  {
   "cell_type": "code",
   "execution_count": 17,
   "id": "04bdc064",
   "metadata": {
    "execution": {
     "iopub.execute_input": "2024-02-12T08:40:30.761801Z",
     "iopub.status.busy": "2024-02-12T08:40:30.761435Z",
     "iopub.status.idle": "2024-02-12T08:40:30.964928Z",
     "shell.execute_reply": "2024-02-12T08:40:30.963805Z"
    },
    "papermill": {
     "duration": 0.232616,
     "end_time": "2024-02-12T08:40:30.967238",
     "exception": false,
     "start_time": "2024-02-12T08:40:30.734622",
     "status": "completed"
    },
    "tags": []
   },
   "outputs": [
    {
     "data": {
      "image/png": "[encoded data removed]",
      "text/plain": [
       "<Figure size 640x480 with 1 Axes>"
      ]
     },
     "metadata": {},
     "output_type": "display_data"
    }
   ],
   "source": [
    "plt.plot(X_new,y_pred,\"r-\")\n",
    "plt.scatter(X,y)\n",
    "plt.axis([0,2,0,15])\n",
    "plt.show()"
   ]
  },
  {
   "cell_type": "code",
   "execution_count": 18,
   "id": "e5d25079",
   "metadata": {
    "execution": {
     "iopub.execute_input": "2024-02-12T08:40:31.019582Z",
     "iopub.status.busy": "2024-02-12T08:40:31.019162Z",
     "iopub.status.idle": "2024-02-12T08:40:31.280234Z",
     "shell.execute_reply": "2024-02-12T08:40:31.279372Z"
    },
    "papermill": {
     "duration": 0.290138,
     "end_time": "2024-02-12T08:40:31.282554",
     "exception": false,
     "start_time": "2024-02-12T08:40:30.992416",
     "status": "completed"
    },
    "tags": []
   },
   "outputs": [
    {
     "data": {
      "text/plain": [
       "(array([3.84896888]), array([[3.33858173]]))"
      ]
     },
     "execution_count": 18,
     "metadata": {},
     "output_type": "execute_result"
    }
   ],
   "source": [
    "from sklearn.linear_model import LinearRegression as LR\n",
    "lin_reg=LR()\n",
    "lin_reg.fit(X,y)\n",
    "lin_reg.intercept_,lin_reg.coef_"
   ]
  },
  {
   "cell_type": "code",
   "execution_count": 19,
   "id": "c0e387db",
   "metadata": {
    "execution": {
     "iopub.execute_input": "2024-02-12T08:40:31.392148Z",
     "iopub.status.busy": "2024-02-12T08:40:31.391695Z",
     "iopub.status.idle": "2024-02-12T08:40:31.396169Z",
     "shell.execute_reply": "2024-02-12T08:40:31.395431Z"
    },
    "papermill": {
     "duration": 0.033756,
     "end_time": "2024-02-12T08:40:31.398380",
     "exception": false,
     "start_time": "2024-02-12T08:40:31.364624",
     "status": "completed"
    },
    "tags": []
   },
   "outputs": [],
   "source": [
    "predict=lin_reg.predict(X_new)"
   ]
  },
  {
   "cell_type": "code",
   "execution_count": 20,
   "id": "2343b8bf",
   "metadata": {
    "execution": {
     "iopub.execute_input": "2024-02-12T08:40:31.452450Z",
     "iopub.status.busy": "2024-02-12T08:40:31.452037Z",
     "iopub.status.idle": "2024-02-12T08:40:31.458021Z",
     "shell.execute_reply": "2024-02-12T08:40:31.457182Z"
    },
    "papermill": {
     "duration": 0.035475,
     "end_time": "2024-02-12T08:40:31.460119",
     "exception": false,
     "start_time": "2024-02-12T08:40:31.424644",
     "status": "completed"
    },
    "tags": []
   },
   "outputs": [
    {
     "data": {
      "text/plain": [
       "array([[ 3.84896888],\n",
       "       [10.52613234]])"
      ]
     },
     "execution_count": 20,
     "metadata": {},
     "output_type": "execute_result"
    }
   ],
   "source": [
    "predict"
   ]
  },
  {
   "cell_type": "code",
   "execution_count": 21,
   "id": "34712987",
   "metadata": {
    "execution": {
     "iopub.execute_input": "2024-02-12T08:40:31.514667Z",
     "iopub.status.busy": "2024-02-12T08:40:31.514219Z",
     "iopub.status.idle": "2024-02-12T08:40:31.728385Z",
     "shell.execute_reply": "2024-02-12T08:40:31.727246Z"
    },
    "papermill": {
     "duration": 0.24418,
     "end_time": "2024-02-12T08:40:31.730835",
     "exception": false,
     "start_time": "2024-02-12T08:40:31.486655",
     "status": "completed"
    },
    "tags": []
   },
   "outputs": [
    {
     "data": {
      "image/png": "[encoded data removed]",
      "text/plain": [
       "<Figure size 640x480 with 1 Axes>"
      ]
     },
     "metadata": {},
     "output_type": "display_data"
    }
   ],
   "source": [
    "plt.plot(X_new,predict,\"r-\")\n",
    "plt.scatter(X,y)\n",
    "plt.axis([0,2,0,15])\n",
    "plt.show()"
   ]
  },
  {
   "cell_type": "markdown",
   "id": "79d764a6",
   "metadata": {
    "papermill": {
     "duration": 0.026091,
     "end_time": "2024-02-12T08:40:31.784890",
     "exception": false,
     "start_time": "2024-02-12T08:40:31.758799",
     "status": "completed"
    },
    "tags": []
   },
   "source": [
    "**LINEAR REGASSION USING BATCH GRADIANT DECENT**"
   ]
  },
  {
   "cell_type": "code",
   "execution_count": 22,
   "id": "bb6af2f8",
   "metadata": {
    "execution": {
     "iopub.execute_input": "2024-02-12T08:40:31.839319Z",
     "iopub.status.busy": "2024-02-12T08:40:31.838893Z",
     "iopub.status.idle": "2024-02-12T08:40:31.856926Z",
     "shell.execute_reply": "2024-02-12T08:40:31.855830Z"
    },
    "papermill": {
     "duration": 0.048517,
     "end_time": "2024-02-12T08:40:31.859622",
     "exception": false,
     "start_time": "2024-02-12T08:40:31.811105",
     "status": "completed"
    },
    "tags": []
   },
   "outputs": [],
   "source": [
    "eta=0.1\n",
    "n_iterations=1000\n",
    "m=100\n",
    "theta=np.random.randn(2,1)\n",
    "for i in range(n_iterations):\n",
    "    gradiant=2/m * X_b.T.dot(X_b.dot(theta)-y)\n",
    "    theta=theta- eta * gradiant"
   ]
  },
  {
   "cell_type": "code",
   "execution_count": 23,
   "id": "da227405",
   "metadata": {
    "execution": {
     "iopub.execute_input": "2024-02-12T08:40:31.913957Z",
     "iopub.status.busy": "2024-02-12T08:40:31.913549Z",
     "iopub.status.idle": "2024-02-12T08:40:31.920550Z",
     "shell.execute_reply": "2024-02-12T08:40:31.919454Z"
    },
    "papermill": {
     "duration": 0.036881,
     "end_time": "2024-02-12T08:40:31.922828",
     "exception": false,
     "start_time": "2024-02-12T08:40:31.885947",
     "status": "completed"
    },
    "tags": []
   },
   "outputs": [
    {
     "data": {
      "text/plain": [
       "array([[3.84896969],\n",
       "       [3.3385802 ]])"
      ]
     },
     "execution_count": 23,
     "metadata": {},
     "output_type": "execute_result"
    }
   ],
   "source": [
    "theta"
   ]
  },
  {
   "cell_type": "code",
   "execution_count": 24,
   "id": "8c06068e",
   "metadata": {
    "execution": {
     "iopub.execute_input": "2024-02-12T08:40:31.977487Z",
     "iopub.status.busy": "2024-02-12T08:40:31.976590Z",
     "iopub.status.idle": "2024-02-12T08:40:31.988665Z",
     "shell.execute_reply": "2024-02-12T08:40:31.987680Z"
    },
    "papermill": {
     "duration": 0.041944,
     "end_time": "2024-02-12T08:40:31.990964",
     "exception": false,
     "start_time": "2024-02-12T08:40:31.949020",
     "status": "completed"
    },
    "tags": []
   },
   "outputs": [
    {
     "data": {
      "text/plain": [
       "(array([3.82160484]), array([3.1683671]))"
      ]
     },
     "execution_count": 24,
     "metadata": {},
     "output_type": "execute_result"
    }
   ],
   "source": [
    "from sklearn.linear_model import SGDRegressor as SGD\n",
    "sgd_reg=SGD(max_iter=50,penalty=None,eta0=0.1)\n",
    "sgd_reg.fit(X,y.ravel())\n",
    "sgd_reg.intercept_,sgd_reg.coef_"
   ]
  },
  {
   "cell_type": "code",
   "execution_count": 25,
   "id": "e3b1ac08",
   "metadata": {
    "execution": {
     "iopub.execute_input": "2024-02-12T08:40:32.046588Z",
     "iopub.status.busy": "2024-02-12T08:40:32.046190Z",
     "iopub.status.idle": "2024-02-12T08:40:32.051839Z",
     "shell.execute_reply": "2024-02-12T08:40:32.050667Z"
    },
    "papermill": {
     "duration": 0.0363,
     "end_time": "2024-02-12T08:40:32.054163",
     "exception": false,
     "start_time": "2024-02-12T08:40:32.017863",
     "status": "completed"
    },
    "tags": []
   },
   "outputs": [],
   "source": [
    "predict=sgd_reg.predict(X_new_b.reshape(-1,1))"
   ]
  },
  {
   "cell_type": "code",
   "execution_count": 26,
   "id": "9f4c4440",
   "metadata": {
    "execution": {
     "iopub.execute_input": "2024-02-12T08:40:32.115587Z",
     "iopub.status.busy": "2024-02-12T08:40:32.114401Z",
     "iopub.status.idle": "2024-02-12T08:40:32.120968Z",
     "shell.execute_reply": "2024-02-12T08:40:32.120050Z"
    },
    "papermill": {
     "duration": 0.040838,
     "end_time": "2024-02-12T08:40:32.123506",
     "exception": false,
     "start_time": "2024-02-12T08:40:32.082668",
     "status": "completed"
    },
    "tags": []
   },
   "outputs": [
    {
     "data": {
      "text/plain": [
       "array([ 6.98997195,  3.82160484,  6.98997195, 10.15833905])"
      ]
     },
     "execution_count": 26,
     "metadata": {},
     "output_type": "execute_result"
    }
   ],
   "source": [
    "predict"
   ]
  },
  {
   "cell_type": "code",
   "execution_count": 27,
   "id": "2c8ee03a",
   "metadata": {
    "execution": {
     "iopub.execute_input": "2024-02-12T08:40:32.181953Z",
     "iopub.status.busy": "2024-02-12T08:40:32.181141Z",
     "iopub.status.idle": "2024-02-12T08:40:32.281776Z",
     "shell.execute_reply": "2024-02-12T08:40:32.280371Z"
    },
    "papermill": {
     "duration": 0.133011,
     "end_time": "2024-02-12T08:40:32.284600",
     "exception": false,
     "start_time": "2024-02-12T08:40:32.151589",
     "status": "completed"
    },
    "tags": []
   },
   "outputs": [],
   "source": [
    "n_epochs=50\n",
    "m=len(X_b)\n",
    "t0,t1=5,50\n",
    "#learnig_schedule a function (equation that gives learning rate)\n",
    "def learning_schedule(t):\n",
    "    return t0/(t+t1)\n",
    "theta=np.random.randn(2,1)\n",
    "for epoch in range(n_epochs):\n",
    "    for i in range(m):\n",
    "        random_index=np.random.randint(m)\n",
    "        xi=X_b[random_index:random_index+1]\n",
    "        yi=y[random_index:random_index+1]\n",
    "        gradiants=2/m * xi.T.dot(xi.dot(theta)-yi)\n",
    "        eta=learning_schedule(epoch*m+i)\n",
    "        theta=theta-eta*gradiants"
   ]
  },
  {
   "cell_type": "code",
   "execution_count": 28,
   "id": "564d3f9d",
   "metadata": {
    "execution": {
     "iopub.execute_input": "2024-02-12T08:40:32.340722Z",
     "iopub.status.busy": "2024-02-12T08:40:32.340322Z",
     "iopub.status.idle": "2024-02-12T08:40:32.347279Z",
     "shell.execute_reply": "2024-02-12T08:40:32.346094Z"
    },
    "papermill": {
     "duration": 0.037902,
     "end_time": "2024-02-12T08:40:32.349838",
     "exception": false,
     "start_time": "2024-02-12T08:40:32.311936",
     "status": "completed"
    },
    "tags": []
   },
   "outputs": [
    {
     "data": {
      "text/plain": [
       "array([[1.79648163],\n",
       "       [1.36865327]])"
      ]
     },
     "execution_count": 28,
     "metadata": {},
     "output_type": "execute_result"
    }
   ],
   "source": [
    "theta"
   ]
  },
  {
   "cell_type": "code",
   "execution_count": 29,
   "id": "e022d020",
   "metadata": {
    "execution": {
     "iopub.execute_input": "2024-02-12T08:40:32.407192Z",
     "iopub.status.busy": "2024-02-12T08:40:32.405957Z",
     "iopub.status.idle": "2024-02-12T08:40:32.419587Z",
     "shell.execute_reply": "2024-02-12T08:40:32.418537Z"
    },
    "papermill": {
     "duration": 0.045121,
     "end_time": "2024-02-12T08:40:32.422200",
     "exception": false,
     "start_time": "2024-02-12T08:40:32.377079",
     "status": "completed"
    },
    "tags": []
   },
   "outputs": [],
   "source": [
    "theta_path_mgd = []\n",
    "\n",
    "n_iterations = 50\n",
    "minibatch_size = 20\n",
    "\n",
    "np.random.seed(42)\n",
    "theta = np.random.randn(2,1)  # random initialization\n",
    "\n",
    "t0, t1 = 200, 1000\n",
    "def learning_schedule(t):\n",
    "    return t0 / (t + t1)\n",
    "\n",
    "t = 0\n",
    "for epoch in range(n_iterations):\n",
    "    shuffled_indices = np.random.permutation(m)\n",
    "    X_b_shuffled = X_b[shuffled_indices]\n",
    "    y_shuffled = y[shuffled_indices]\n",
    "    for i in range(0, m, minibatch_size):\n",
    "        t += 1\n",
    "        xi = X_b_shuffled[i:i+minibatch_size]\n",
    "        yi = y_shuffled[i:i+minibatch_size]\n",
    "        gradients = 2/minibatch_size * xi.T.dot(xi.dot(theta) - yi)\n",
    "        eta = learning_schedule(t)\n",
    "        theta = theta - eta * gradients\n",
    "        theta_path_mgd.append(theta)"
   ]
  },
  {
   "cell_type": "code",
   "execution_count": 30,
   "id": "ac7fc60d",
   "metadata": {
    "execution": {
     "iopub.execute_input": "2024-02-12T08:40:32.480518Z",
     "iopub.status.busy": "2024-02-12T08:40:32.479728Z",
     "iopub.status.idle": "2024-02-12T08:40:32.488863Z",
     "shell.execute_reply": "2024-02-12T08:40:32.487897Z"
    },
    "papermill": {
     "duration": 0.04174,
     "end_time": "2024-02-12T08:40:32.491437",
     "exception": false,
     "start_time": "2024-02-12T08:40:32.449697",
     "status": "completed"
    },
    "tags": []
   },
   "outputs": [],
   "source": [
    "theta_path_bgd = []\n",
    "\n",
    "def plot_gradient_descent(theta, eta, theta_path=None):\n",
    "    m = len(X_b)\n",
    "    plt.plot(X, y, \"b.\")\n",
    "    n_iterations = 1000\n",
    "    for iteration in range(n_iterations):\n",
    "        if iteration < 10:\n",
    "            y_predict = X_new_b.dot(theta)\n",
    "            style = \"b-\" if iteration > 0 else \"r--\"\n",
    "            plt.plot(X_new, y_predict, style)\n",
    "        gradients = 2/m * X_b.T.dot(X_b.dot(theta) - y)\n",
    "        theta = theta - eta * gradients\n",
    "        if theta_path is not None:\n",
    "            theta_path.append(theta)\n",
    "    plt.xlabel(\"$x_1$\", fontsize=18)\n",
    "    plt.axis([0, 2, 0, 15])\n",
    "    plt.title(r\"$\\eta = {}$\".format(eta), fontsize=16)"
   ]
  },
  {
   "cell_type": "code",
   "execution_count": 31,
   "id": "90f9d904",
   "metadata": {
    "execution": {
     "iopub.execute_input": "2024-02-12T08:40:32.549334Z",
     "iopub.status.busy": "2024-02-12T08:40:32.548537Z",
     "iopub.status.idle": "2024-02-12T08:40:33.639393Z",
     "shell.execute_reply": "2024-02-12T08:40:33.638297Z"
    },
    "papermill": {
     "duration": 1.121704,
     "end_time": "2024-02-12T08:40:33.641669",
     "exception": false,
     "start_time": "2024-02-12T08:40:32.519965",
     "status": "completed"
    },
    "tags": []
   },
   "outputs": [
    {
     "data": {
      "image/png": "[encoded data removed]",
      "text/plain": [
       "<Figure size 1000x400 with 3 Axes>"
      ]
     },
     "metadata": {},
     "output_type": "display_data"
    }
   ],
   "source": [
    "np.random.seed(42)\n",
    "theta = np.random.randn(2,1)  # random initialization\n",
    "\n",
    "plt.figure(figsize=(10,4))\n",
    "plt.subplot(131); plot_gradient_descent(theta, eta=0.02)\n",
    "plt.ylabel(\"$y$\", rotation=0, fontsize=18)\n",
    "plt.subplot(132); plot_gradient_descent(theta, eta=0.1, theta_path=theta_path_bgd)\n",
    "plt.subplot(133); plot_gradient_descent(theta, eta=0.5)\n",
    "\n",
    "plt.savefig(\"gradient_descent_plot\")\n",
    "plt.show()"
   ]
  },
  {
   "cell_type": "code",
   "execution_count": 32,
   "id": "1a1c7656",
   "metadata": {
    "execution": {
     "iopub.execute_input": "2024-02-12T08:40:33.699044Z",
     "iopub.status.busy": "2024-02-12T08:40:33.698374Z",
     "iopub.status.idle": "2024-02-12T08:40:33.703752Z",
     "shell.execute_reply": "2024-02-12T08:40:33.702506Z"
    },
    "papermill": {
     "duration": 0.03673,
     "end_time": "2024-02-12T08:40:33.706092",
     "exception": false,
     "start_time": "2024-02-12T08:40:33.669362",
     "status": "completed"
    },
    "tags": []
   },
   "outputs": [],
   "source": [
    "theta_path_sgd = []\n",
    "m = len(X_b)\n",
    "np.random.seed(42)"
   ]
  },
  {
   "cell_type": "code",
   "execution_count": 33,
   "id": "aeb20cb9",
   "metadata": {
    "execution": {
     "iopub.execute_input": "2024-02-12T08:40:33.763532Z",
     "iopub.status.busy": "2024-02-12T08:40:33.763140Z",
     "iopub.status.idle": "2024-02-12T08:40:34.200155Z",
     "shell.execute_reply": "2024-02-12T08:40:34.199031Z"
    },
    "papermill": {
     "duration": 0.468709,
     "end_time": "2024-02-12T08:40:34.202649",
     "exception": false,
     "start_time": "2024-02-12T08:40:33.733940",
     "status": "completed"
    },
    "tags": []
   },
   "outputs": [
    {
     "data": {
      "image/png": "[encoded data removed]",
      "text/plain": [
       "<Figure size 640x480 with 1 Axes>"
      ]
     },
     "metadata": {},
     "output_type": "display_data"
    }
   ],
   "source": [
    "n_epochs = 50\n",
    "t0, t1 = 5, 50  # learning schedule hyperparameters\n",
    "\n",
    "def learning_schedule(t):\n",
    "    return t0 / (t + t1)\n",
    "\n",
    "theta = np.random.randn(2,1)  # random initialization\n",
    "\n",
    "for epoch in range(n_epochs):\n",
    "    for i in range(m):\n",
    "        if epoch == 0 and i < 20:                    # not shown in the book\n",
    "            y_predict = X_new_b.dot(theta)           # not shown\n",
    "            style = \"b-\" if i > 0 else \"r--\"         # not shown\n",
    "            plt.plot(X_new, y_predict, style)        # not shown\n",
    "        random_index = np.random.randint(m)\n",
    "        xi = X_b[random_index:random_index+1]\n",
    "        yi = y[random_index:random_index+1]\n",
    "        gradients = 2 * xi.T.dot(xi.dot(theta) - yi)\n",
    "        eta = learning_schedule(epoch * m + i)\n",
    "        theta = theta - eta * gradients\n",
    "        theta_path_sgd.append(theta)                 # not shown\n",
    "\n",
    "plt.plot(X, y, \"b.\")                                 # not shown\n",
    "plt.xlabel(\"$x_1$\", fontsize=18)                     # not shown\n",
    "plt.ylabel(\"$y$\", rotation=0, fontsize=18)           # not shown\n",
    "plt.axis([0, 2, 0, 15])                              # not shown\n",
    "plt.savefig(\"sgd_plot\")                                 # not shown\n",
    "plt.show()                "
   ]
  },
  {
   "cell_type": "code",
   "execution_count": null,
   "id": "73ae1e3e",
   "metadata": {
    "papermill": {
     "duration": 0.028656,
     "end_time": "2024-02-12T08:40:34.260243",
     "exception": false,
     "start_time": "2024-02-12T08:40:34.231587",
     "status": "completed"
    },
    "tags": []
   },
   "outputs": [],
   "source": []
  },
  {
   "cell_type": "code",
   "execution_count": null,
   "id": "a29e9218",
   "metadata": {
    "papermill": {
     "duration": 0.027814,
     "end_time": "2024-02-12T08:40:34.318090",
     "exception": false,
     "start_time": "2024-02-12T08:40:34.290276",
     "status": "completed"
    },
    "tags": []
   },
   "outputs": [],
   "source": []
  },
  {
   "cell_type": "code",
   "execution_count": 34,
   "id": "8bef9f48",
   "metadata": {
    "execution": {
     "iopub.execute_input": "2024-02-12T08:40:34.378645Z",
     "iopub.status.busy": "2024-02-12T08:40:34.378241Z",
     "iopub.status.idle": "2024-02-12T08:40:34.385554Z",
     "shell.execute_reply": "2024-02-12T08:40:34.384351Z"
    },
    "papermill": {
     "duration": 0.04064,
     "end_time": "2024-02-12T08:40:34.387738",
     "exception": false,
     "start_time": "2024-02-12T08:40:34.347098",
     "status": "completed"
    },
    "tags": []
   },
   "outputs": [
    {
     "data": {
      "text/plain": [
       "array([[3.81912095],\n",
       "       [3.40283935]])"
      ]
     },
     "execution_count": 34,
     "metadata": {},
     "output_type": "execute_result"
    }
   ],
   "source": [
    "theta"
   ]
  },
  {
   "cell_type": "code",
   "execution_count": 35,
   "id": "11dc424f",
   "metadata": {
    "execution": {
     "iopub.execute_input": "2024-02-12T08:40:34.448009Z",
     "iopub.status.busy": "2024-02-12T08:40:34.447559Z",
     "iopub.status.idle": "2024-02-12T08:40:34.458927Z",
     "shell.execute_reply": "2024-02-12T08:40:34.457848Z"
    },
    "papermill": {
     "duration": 0.044435,
     "end_time": "2024-02-12T08:40:34.461553",
     "exception": false,
     "start_time": "2024-02-12T08:40:34.417118",
     "status": "completed"
    },
    "tags": []
   },
   "outputs": [],
   "source": [
    "theta_path_bgd = np.array(theta_path_bgd)\n",
    "theta_path_sgd = np.array(theta_path_sgd)\n",
    "theta_path_mgd = np.array(theta_path_mgd)"
   ]
  },
  {
   "cell_type": "code",
   "execution_count": 36,
   "id": "9f8346b4",
   "metadata": {
    "execution": {
     "iopub.execute_input": "2024-02-12T08:40:34.521591Z",
     "iopub.status.busy": "2024-02-12T08:40:34.520911Z",
     "iopub.status.idle": "2024-02-12T08:40:35.077112Z",
     "shell.execute_reply": "2024-02-12T08:40:35.076005Z"
    },
    "papermill": {
     "duration": 0.590179,
     "end_time": "2024-02-12T08:40:35.080350",
     "exception": false,
     "start_time": "2024-02-12T08:40:34.490171",
     "status": "completed"
    },
    "tags": []
   },
   "outputs": [
    {
     "data": {
      "image/png": "[encoded data removed]",
      "text/plain": [
       "<Figure size 1200x800 with 1 Axes>"
      ]
     },
     "metadata": {},
     "output_type": "display_data"
    }
   ],
   "source": [
    "plt.figure(figsize=(12,8))\n",
    "plt.plot(theta_path_sgd[:, 0], theta_path_sgd[:, 1], \"r-s\", linewidth=1, label=\"Stochastic\")\n",
    "plt.plot(theta_path_mgd[:, 0], theta_path_mgd[:, 1], \"g-+\", linewidth=2, label=\"Mini-batch\")\n",
    "plt.plot(theta_path_bgd[:, 0], theta_path_bgd[:, 1], \"b-o\", linewidth=3, label=\"Batch\")\n",
    "plt.legend(loc=\"upper left\", fontsize=16)\n",
    "plt.xlabel(r\"$\\theta_0$\", fontsize=20)\n",
    "plt.ylabel(r\"$\\theta_1$   \", fontsize=20, rotation=0)\n",
    "plt.axis([2.5, 4.5, 2.3, 3.9])\n",
    "plt.savefig(\"gradient_descent_paths_plot\")\n",
    "plt.show()"
   ]
  },
  {
   "cell_type": "code",
   "execution_count": 37,
   "id": "feebb112",
   "metadata": {
    "execution": {
     "iopub.execute_input": "2024-02-12T08:40:35.143384Z",
     "iopub.status.busy": "2024-02-12T08:40:35.142696Z",
     "iopub.status.idle": "2024-02-12T08:40:35.148610Z",
     "shell.execute_reply": "2024-02-12T08:40:35.147780Z"
    },
    "papermill": {
     "duration": 0.040348,
     "end_time": "2024-02-12T08:40:35.150800",
     "exception": false,
     "start_time": "2024-02-12T08:40:35.110452",
     "status": "completed"
    },
    "tags": []
   },
   "outputs": [],
   "source": [
    "m = 100\n",
    "X = 6 * np.random.rand(m, 1) - 3\n",
    "y = 0.5 * X**2 + X + 2 + np.random.randn(m, 1)"
   ]
  },
  {
   "cell_type": "code",
   "execution_count": 38,
   "id": "7c50c702",
   "metadata": {
    "execution": {
     "iopub.execute_input": "2024-02-12T08:40:35.215772Z",
     "iopub.status.busy": "2024-02-12T08:40:35.213556Z",
     "iopub.status.idle": "2024-02-12T08:40:35.223545Z",
     "shell.execute_reply": "2024-02-12T08:40:35.222766Z"
    },
    "papermill": {
     "duration": 0.043554,
     "end_time": "2024-02-12T08:40:35.225622",
     "exception": false,
     "start_time": "2024-02-12T08:40:35.182068",
     "status": "completed"
    },
    "tags": []
   },
   "outputs": [
    {
     "data": {
      "text/plain": [
       "array([[-2.53415534],\n",
       "       [ 1.97322766],\n",
       "       [-0.90665955],\n",
       "       [ 0.12959638],\n",
       "       [ 1.7669138 ],\n",
       "       [ 2.30625928],\n",
       "       [-0.93131148],\n",
       "       [-0.22893911],\n",
       "       [-0.51290361],\n",
       "       [-2.9204938 ],\n",
       "       [-1.22434267],\n",
       "       [-0.2448646 ],\n",
       "       [-0.53343835],\n",
       "       [ 1.33157537],\n",
       "       [-0.6911783 ],\n",
       "       [-0.06374131],\n",
       "       [-0.42234845],\n",
       "       [ 1.44375689],\n",
       "       [ 2.17783439],\n",
       "       [ 0.19133447],\n",
       "       [ 1.73659317],\n",
       "       [-1.21927991],\n",
       "       [ 0.24821766],\n",
       "       [-0.92862028],\n",
       "       [-0.51479445],\n",
       "       [ 1.39448319],\n",
       "       [ 2.28997489],\n",
       "       [-2.27102765],\n",
       "       [ 0.80783554],\n",
       "       [ 0.49286285],\n",
       "       [-2.28950976],\n",
       "       [-1.72863402],\n",
       "       [-1.13398503],\n",
       "       [-1.99841358],\n",
       "       [-1.5376231 ],\n",
       "       [-1.39439521],\n",
       "       [-0.985957  ],\n",
       "       [ 1.49634272],\n",
       "       [ 0.43147322],\n",
       "       [ 2.91748003],\n",
       "       [-0.51158504],\n",
       "       [ 1.52319044],\n",
       "       [ 2.22881053],\n",
       "       [ 1.07387096],\n",
       "       [-0.52881156],\n",
       "       [ 1.52156778],\n",
       "       [-1.77799717],\n",
       "       [-1.03468701],\n",
       "       [ 0.28011153],\n",
       "       [ 0.45245632],\n",
       "       [-2.86715115],\n",
       "       [ 2.67068513],\n",
       "       [ 1.17976363],\n",
       "       [-0.0257775 ],\n",
       "       [ 2.59876341],\n",
       "       [-0.36542661],\n",
       "       [ 2.88261342],\n",
       "       [ 0.07370854],\n",
       "       [-2.31428538],\n",
       "       [ 1.58880583],\n",
       "       [ 1.07338635],\n",
       "       [ 1.63792033],\n",
       "       [ 2.70865217],\n",
       "       [ 1.65893582],\n",
       "       [ 0.66801961],\n",
       "       [ 2.14385341],\n",
       "       [ 1.03947864],\n",
       "       [-0.55128566],\n",
       "       [ 2.31371859],\n",
       "       [-1.66859724],\n",
       "       [ 1.28784765],\n",
       "       [ 2.28938073],\n",
       "       [ 1.38789912],\n",
       "       [ 1.18365251],\n",
       "       [ 1.51582976],\n",
       "       [-0.20966851],\n",
       "       [ 2.24502409],\n",
       "       [-1.77938115],\n",
       "       [-2.2356815 ],\n",
       "       [-1.28694732],\n",
       "       [ 0.18946438],\n",
       "       [ 0.06337077],\n",
       "       [ 1.92359255],\n",
       "       [-0.57258806],\n",
       "       [-0.09393344],\n",
       "       [-2.9197939 ],\n",
       "       [-0.54156458],\n",
       "       [ 0.8866454 ],\n",
       "       [-2.90695002],\n",
       "       [-1.31470821],\n",
       "       [-1.75226184],\n",
       "       [-2.74808743],\n",
       "       [-0.12443946],\n",
       "       [-1.90966024],\n",
       "       [ 1.45848924],\n",
       "       [ 2.0875673 ],\n",
       "       [ 0.2735111 ],\n",
       "       [ 2.89024406],\n",
       "       [-0.29712857],\n",
       "       [ 0.08020926]])"
      ]
     },
     "execution_count": 38,
     "metadata": {},
     "output_type": "execute_result"
    }
   ],
   "source": [
    "X"
   ]
  },
  {
   "cell_type": "code",
   "execution_count": 39,
   "id": "0ea51522",
   "metadata": {
    "execution": {
     "iopub.execute_input": "2024-02-12T08:40:35.289692Z",
     "iopub.status.busy": "2024-02-12T08:40:35.289003Z",
     "iopub.status.idle": "2024-02-12T08:40:35.297977Z",
     "shell.execute_reply": "2024-02-12T08:40:35.296834Z"
    },
    "papermill": {
     "duration": 0.043259,
     "end_time": "2024-02-12T08:40:35.300365",
     "exception": false,
     "start_time": "2024-02-12T08:40:35.257106",
     "status": "completed"
    },
    "tags": []
   },
   "outputs": [
    {
     "data": {
      "text/plain": [
       "array([[ 1.92601100e+00],\n",
       "       [ 5.82642894e+00],\n",
       "       [ 2.20889102e+00],\n",
       "       [ 3.62775913e+00],\n",
       "       [ 4.44280629e+00],\n",
       "       [ 8.42275385e+00],\n",
       "       [ 1.04979739e+00],\n",
       "       [ 1.66735766e+00],\n",
       "       [ 2.20006396e+00],\n",
       "       [ 3.14091214e+00],\n",
       "       [ 2.63528242e+00],\n",
       "       [ 1.38051059e+00],\n",
       "       [ 1.21930490e+00],\n",
       "       [ 5.27010180e+00],\n",
       "       [ 7.84561034e-01],\n",
       "       [ 2.18721927e+00],\n",
       "       [ 6.35799053e-03],\n",
       "       [ 6.30561323e+00],\n",
       "       [ 7.75586765e+00],\n",
       "       [ 4.95974611e+00],\n",
       "       [ 6.58283481e+00],\n",
       "       [ 3.94391609e-01],\n",
       "       [ 2.94767352e+00],\n",
       "       [ 5.84538770e-01],\n",
       "       [ 3.19574972e+00],\n",
       "       [ 3.26563458e+00],\n",
       "       [ 5.76281252e+00],\n",
       "       [ 6.97944194e-01],\n",
       "       [ 2.64575485e+00],\n",
       "       [ 1.92484191e+00],\n",
       "       [ 1.06976861e+00],\n",
       "       [ 3.75526287e+00],\n",
       "       [ 2.03885669e+00],\n",
       "       [ 2.41064937e+00],\n",
       "       [ 3.23368372e+00],\n",
       "       [ 1.83403158e+00],\n",
       "       [ 7.51418401e-01],\n",
       "       [ 2.91565374e+00],\n",
       "       [ 1.71950040e+00],\n",
       "       [ 1.06787405e+01],\n",
       "       [ 3.63938472e-01],\n",
       "       [ 5.03637224e+00],\n",
       "       [ 7.74653386e+00],\n",
       "       [ 3.93581522e+00],\n",
       "       [ 2.00999260e+00],\n",
       "       [ 5.33475596e+00],\n",
       "       [ 2.18192067e+00],\n",
       "       [ 3.10967577e+00],\n",
       "       [ 1.27905104e+00],\n",
       "       [ 2.79523956e+00],\n",
       "       [ 1.42488627e+00],\n",
       "       [ 6.16321848e+00],\n",
       "       [ 3.79401370e+00],\n",
       "       [ 2.51793431e+00],\n",
       "       [ 9.60621681e+00],\n",
       "       [ 4.12113343e+00],\n",
       "       [ 1.03572042e+01],\n",
       "       [ 2.80359076e+00],\n",
       "       [ 2.52363789e+00],\n",
       "       [ 3.31972976e+00],\n",
       "       [ 3.50342887e+00],\n",
       "       [ 6.26968858e+00],\n",
       "       [ 9.27533232e+00],\n",
       "       [ 3.74863569e+00],\n",
       "       [ 3.50517036e+00],\n",
       "       [ 6.97029996e+00],\n",
       "       [ 3.92962667e+00],\n",
       "       [ 1.57281672e+00],\n",
       "       [ 7.65594940e+00],\n",
       "       [ 2.42082417e+00],\n",
       "       [ 3.47566467e+00],\n",
       "       [ 7.36502685e+00],\n",
       "       [ 4.16163596e+00],\n",
       "       [ 2.39693528e+00],\n",
       "       [ 4.10309267e+00],\n",
       "       [ 2.48622247e-01],\n",
       "       [ 7.74518422e+00],\n",
       "       [ 2.15960687e+00],\n",
       "       [ 1.90796378e+00],\n",
       "       [ 2.96169073e+00],\n",
       "       [ 2.27540366e+00],\n",
       "       [ 6.34155944e-01],\n",
       "       [ 5.33421815e+00],\n",
       "       [ 3.22419467e+00],\n",
       "       [ 1.24100268e+00],\n",
       "       [ 3.61802560e+00],\n",
       "       [ 2.34895814e+00],\n",
       "       [ 3.86966391e+00],\n",
       "       [ 5.76768898e+00],\n",
       "       [ 3.73217371e-01],\n",
       "       [ 7.06485861e-01],\n",
       "       [ 1.86815038e+00],\n",
       "       [ 1.58738471e+00],\n",
       "       [ 3.01311826e+00],\n",
       "       [ 3.49035009e+00],\n",
       "       [ 7.37989643e+00],\n",
       "       [ 2.34604193e+00],\n",
       "       [ 7.95800271e+00],\n",
       "       [-4.35583384e-03],\n",
       "       [ 5.55855530e-01]])"
      ]
     },
     "execution_count": 39,
     "metadata": {},
     "output_type": "execute_result"
    }
   ],
   "source": [
    "y"
   ]
  },
  {
   "cell_type": "code",
   "execution_count": 40,
   "id": "d7c2760b",
   "metadata": {
    "execution": {
     "iopub.execute_input": "2024-02-12T08:40:35.363272Z",
     "iopub.status.busy": "2024-02-12T08:40:35.362867Z",
     "iopub.status.idle": "2024-02-12T08:40:35.584278Z",
     "shell.execute_reply": "2024-02-12T08:40:35.583148Z"
    },
    "papermill": {
     "duration": 0.255482,
     "end_time": "2024-02-12T08:40:35.586869",
     "exception": false,
     "start_time": "2024-02-12T08:40:35.331387",
     "status": "completed"
    },
    "tags": []
   },
   "outputs": [
    {
     "data": {
      "text/plain": [
       "<matplotlib.collections.PathCollection at 0x7c651a249db0>"
      ]
     },
     "execution_count": 40,
     "metadata": {},
     "output_type": "execute_result"
    },
    {
     "data": {
      "image/png": "[encoded data removed]",
      "text/plain": [
       "<Figure size 640x480 with 1 Axes>"
      ]
     },
     "metadata": {},
     "output_type": "display_data"
    }
   ],
   "source": [
    "plt.scatter(X,y)"
   ]
  },
  {
   "cell_type": "code",
   "execution_count": 41,
   "id": "47b52d86",
   "metadata": {
    "execution": {
     "iopub.execute_input": "2024-02-12T08:40:35.651790Z",
     "iopub.status.busy": "2024-02-12T08:40:35.651400Z",
     "iopub.status.idle": "2024-02-12T08:40:35.657671Z",
     "shell.execute_reply": "2024-02-12T08:40:35.656373Z"
    },
    "papermill": {
     "duration": 0.042221,
     "end_time": "2024-02-12T08:40:35.659980",
     "exception": false,
     "start_time": "2024-02-12T08:40:35.617759",
     "status": "completed"
    },
    "tags": []
   },
   "outputs": [],
   "source": [
    "def scatter_plot(n):\n",
    "    X=np.random.rand(n,1)-5\n",
    "    y=0.5*X**3+X**2+X+6\n",
    "    plt.scatter(X,y)\n",
    "    plt.title(\"scatter plot\")\n",
    "    plt.xlabel('X')\n",
    "    plt.ylabel('Y')"
   ]
  },
  {
   "cell_type": "code",
   "execution_count": 42,
   "id": "1eb3da61",
   "metadata": {
    "execution": {
     "iopub.execute_input": "2024-02-12T08:40:35.723638Z",
     "iopub.status.busy": "2024-02-12T08:40:35.723264Z",
     "iopub.status.idle": "2024-02-12T08:40:35.968611Z",
     "shell.execute_reply": "2024-02-12T08:40:35.967304Z"
    },
    "papermill": {
     "duration": 0.28039,
     "end_time": "2024-02-12T08:40:35.971286",
     "exception": false,
     "start_time": "2024-02-12T08:40:35.690896",
     "status": "completed"
    },
    "tags": []
   },
   "outputs": [
    {
     "data": {
      "image/png": "[encoded data removed]",
      "text/plain": [
       "<Figure size 640x480 with 1 Axes>"
      ]
     },
     "metadata": {},
     "output_type": "display_data"
    }
   ],
   "source": [
    "scatter_plot(200)"
   ]
  },
  {
   "cell_type": "code",
   "execution_count": 43,
   "id": "b828cd43",
   "metadata": {
    "execution": {
     "iopub.execute_input": "2024-02-12T08:40:36.036927Z",
     "iopub.status.busy": "2024-02-12T08:40:36.036548Z",
     "iopub.status.idle": "2024-02-12T08:40:36.044710Z",
     "shell.execute_reply": "2024-02-12T08:40:36.043878Z"
    },
    "papermill": {
     "duration": 0.043463,
     "end_time": "2024-02-12T08:40:36.046726",
     "exception": false,
     "start_time": "2024-02-12T08:40:36.003263",
     "status": "completed"
    },
    "tags": []
   },
   "outputs": [
    {
     "data": {
      "text/plain": [
       "array([-2.53415534,  6.42194331])"
      ]
     },
     "execution_count": 43,
     "metadata": {},
     "output_type": "execute_result"
    }
   ],
   "source": [
    "from sklearn.preprocessing import PolynomialFeatures as PF\n",
    "poly_featurs=PF(degree=2,include_bias=False)\n",
    "X_poly=poly_featurs.fit_transform(X)\n",
    "X_poly[0]"
   ]
  },
  {
   "cell_type": "code",
   "execution_count": 44,
   "id": "3f25ae4b",
   "metadata": {
    "execution": {
     "iopub.execute_input": "2024-02-12T08:40:36.112566Z",
     "iopub.status.busy": "2024-02-12T08:40:36.111781Z",
     "iopub.status.idle": "2024-02-12T08:40:36.128078Z",
     "shell.execute_reply": "2024-02-12T08:40:36.127290Z"
    },
    "papermill": {
     "duration": 0.051767,
     "end_time": "2024-02-12T08:40:36.130328",
     "exception": false,
     "start_time": "2024-02-12T08:40:36.078561",
     "status": "completed"
    },
    "tags": []
   },
   "outputs": [
    {
     "data": {
      "text/plain": [
       "(array([2.00704064]), array([[1.04541031, 0.52314711]]))"
      ]
     },
     "execution_count": 44,
     "metadata": {},
     "output_type": "execute_result"
    }
   ],
   "source": [
    "from sklearn.linear_model import LinearRegression\n",
    "lin_reg=LinearRegression()\n",
    "lin_reg.fit(X_poly,y)\n",
    "lin_reg.intercept_,lin_reg.coef_"
   ]
  },
  {
   "cell_type": "code",
   "execution_count": 45,
   "id": "2e7ba5be",
   "metadata": {
    "execution": {
     "iopub.execute_input": "2024-02-12T08:40:36.198364Z",
     "iopub.status.busy": "2024-02-12T08:40:36.197613Z",
     "iopub.status.idle": "2024-02-12T08:40:36.203785Z",
     "shell.execute_reply": "2024-02-12T08:40:36.202753Z"
    },
    "papermill": {
     "duration": 0.043685,
     "end_time": "2024-02-12T08:40:36.205985",
     "exception": false,
     "start_time": "2024-02-12T08:40:36.162300",
     "status": "completed"
    },
    "tags": []
   },
   "outputs": [
    {
     "data": {
      "text/plain": [
       "array([[1.04541031, 0.52314711]])"
      ]
     },
     "execution_count": 45,
     "metadata": {},
     "output_type": "execute_result"
    }
   ],
   "source": [
    "lin_reg.coef_"
   ]
  },
  {
   "cell_type": "code",
   "execution_count": 46,
   "id": "c2df4cad",
   "metadata": {
    "execution": {
     "iopub.execute_input": "2024-02-12T08:40:36.273326Z",
     "iopub.status.busy": "2024-02-12T08:40:36.272208Z",
     "iopub.status.idle": "2024-02-12T08:40:36.279659Z",
     "shell.execute_reply": "2024-02-12T08:40:36.278525Z"
    },
    "papermill": {
     "duration": 0.043851,
     "end_time": "2024-02-12T08:40:36.281995",
     "exception": false,
     "start_time": "2024-02-12T08:40:36.238144",
     "status": "completed"
    },
    "tags": []
   },
   "outputs": [
    {
     "data": {
      "text/plain": [
       "array([2.00704064])"
      ]
     },
     "execution_count": 46,
     "metadata": {},
     "output_type": "execute_result"
    }
   ],
   "source": [
    "lin_reg.intercept_"
   ]
  },
  {
   "cell_type": "markdown",
   "id": "9e70e515",
   "metadata": {
    "papermill": {
     "duration": 0.032856,
     "end_time": "2024-02-12T08:40:36.347505",
     "exception": false,
     "start_time": "2024-02-12T08:40:36.314649",
     "status": "completed"
    },
    "tags": []
   },
   "source": [
    "**Learning curves-used to know the data is overfitting or underfitting**"
   ]
  },
  {
   "cell_type": "code",
   "execution_count": 47,
   "id": "24168e75",
   "metadata": {
    "execution": {
     "iopub.execute_input": "2024-02-12T08:40:36.414642Z",
     "iopub.status.busy": "2024-02-12T08:40:36.413896Z",
     "iopub.status.idle": "2024-02-12T08:40:36.422882Z",
     "shell.execute_reply": "2024-02-12T08:40:36.422004Z"
    },
    "papermill": {
     "duration": 0.04532,
     "end_time": "2024-02-12T08:40:36.425273",
     "exception": false,
     "start_time": "2024-02-12T08:40:36.379953",
     "status": "completed"
    },
    "tags": []
   },
   "outputs": [],
   "source": [
    "from sklearn.metrics import mean_squared_error\n",
    "from sklearn.model_selection import train_test_split\n",
    "def plot_learning_curve(model_obj,X,y):\n",
    "    X_train,X_val,y_train,y_val=train_test_split(X,y,test_size=0.2)\n",
    "    train_erros,val_errors=[],[]\n",
    "    for m in range (1,len(X_train)):\n",
    "        model_obj.fit(X_train[:m],y_train[:m])\n",
    "        y_train_pred=model_obj.predict(X_train[:m])\n",
    "        y_val_pred=model_obj.predict(X_val)\n",
    "        train_erros.append(mean_squared_error(y_train[:m],y_train_pred))\n",
    "        val_errors.append(mean_squared_error(y_val,y_val_pred))\n",
    "    plt.plot(np.sqrt(train_erros),\"r-+\",linewidth=2,label=\"training set\")\n",
    "    plt.plot(np.sqrt(val_errors),\"b-\",linewidth=3,label=\"validation set\")"
   ]
  },
  {
   "cell_type": "code",
   "execution_count": 48,
   "id": "3887ded7",
   "metadata": {
    "execution": {
     "iopub.execute_input": "2024-02-12T08:40:36.491383Z",
     "iopub.status.busy": "2024-02-12T08:40:36.490655Z",
     "iopub.status.idle": "2024-02-12T08:40:36.824370Z",
     "shell.execute_reply": "2024-02-12T08:40:36.823277Z"
    },
    "papermill": {
     "duration": 0.369996,
     "end_time": "2024-02-12T08:40:36.827161",
     "exception": false,
     "start_time": "2024-02-12T08:40:36.457165",
     "status": "completed"
    },
    "tags": []
   },
   "outputs": [
    {
     "data": {
      "image/png": "[encoded data removed]",
      "text/plain": [
       "<Figure size 640x480 with 1 Axes>"
      ]
     },
     "metadata": {},
     "output_type": "display_data"
    }
   ],
   "source": [
    "lin_reg=LinearRegression()\n",
    "plot_learning_curve(lin_reg,X,y)\n",
    "plt.legend(loc='upper right',fontsize=14)\n",
    "plt.xlabel(\"traing set size\")\n",
    "plt.ylabel(\"RMSE\")\n",
    "plt.show()"
   ]
  },
  {
   "cell_type": "markdown",
   "id": "b116c5ae",
   "metadata": {
    "papermill": {
     "duration": 0.032033,
     "end_time": "2024-02-12T08:40:36.891759",
     "exception": false,
     "start_time": "2024-02-12T08:40:36.859726",
     "status": "completed"
    },
    "tags": []
   },
   "source": [
    "**Initially VALIDATION ERROR IS BIG AND TRAING SET ERROR IS SMALL BECAUSE FEATURES ARE LESS INITIALLY**"
   ]
  },
  {
   "cell_type": "code",
   "execution_count": 49,
   "id": "ac5d47ff",
   "metadata": {
    "execution": {
     "iopub.execute_input": "2024-02-12T08:40:36.958406Z",
     "iopub.status.busy": "2024-02-12T08:40:36.957986Z",
     "iopub.status.idle": "2024-02-12T08:40:36.991978Z",
     "shell.execute_reply": "2024-02-12T08:40:36.990851Z"
    },
    "papermill": {
     "duration": 0.070547,
     "end_time": "2024-02-12T08:40:36.994730",
     "exception": false,
     "start_time": "2024-02-12T08:40:36.924183",
     "status": "completed"
    },
    "tags": []
   },
   "outputs": [
    {
     "data": {
      "text/plain": [
       "<Figure size 640x480 with 0 Axes>"
      ]
     },
     "metadata": {},
     "output_type": "display_data"
    }
   ],
   "source": [
    "plt.savefig(\"linerar_reg\")"
   ]
  },
  {
   "cell_type": "code",
   "execution_count": 50,
   "id": "aa8de196",
   "metadata": {
    "execution": {
     "iopub.execute_input": "2024-02-12T08:40:37.065072Z",
     "iopub.status.busy": "2024-02-12T08:40:37.064700Z",
     "iopub.status.idle": "2024-02-12T08:40:37.069935Z",
     "shell.execute_reply": "2024-02-12T08:40:37.068852Z"
    },
    "papermill": {
     "duration": 0.041673,
     "end_time": "2024-02-12T08:40:37.072271",
     "exception": false,
     "start_time": "2024-02-12T08:40:37.030598",
     "status": "completed"
    },
    "tags": []
   },
   "outputs": [],
   "source": [
    "X_train,X_val,y_train,y_val=train_test_split(X,y,test_size=0.2)"
   ]
  },
  {
   "cell_type": "code",
   "execution_count": 51,
   "id": "0f61386f",
   "metadata": {
    "execution": {
     "iopub.execute_input": "2024-02-12T08:40:37.140951Z",
     "iopub.status.busy": "2024-02-12T08:40:37.140541Z",
     "iopub.status.idle": "2024-02-12T08:40:37.144519Z",
     "shell.execute_reply": "2024-02-12T08:40:37.143864Z"
    },
    "papermill": {
     "duration": 0.041331,
     "end_time": "2024-02-12T08:40:37.146769",
     "exception": false,
     "start_time": "2024-02-12T08:40:37.105438",
     "status": "completed"
    },
    "tags": []
   },
   "outputs": [],
   "source": [
    "lin_reg=LinearRegression()"
   ]
  },
  {
   "cell_type": "code",
   "execution_count": 52,
   "id": "610733e2",
   "metadata": {
    "execution": {
     "iopub.execute_input": "2024-02-12T08:40:37.217417Z",
     "iopub.status.busy": "2024-02-12T08:40:37.216980Z",
     "iopub.status.idle": "2024-02-12T08:40:37.222405Z",
     "shell.execute_reply": "2024-02-12T08:40:37.221512Z"
    },
    "papermill": {
     "duration": 0.044809,
     "end_time": "2024-02-12T08:40:37.224578",
     "exception": false,
     "start_time": "2024-02-12T08:40:37.179769",
     "status": "completed"
    },
    "tags": []
   },
   "outputs": [],
   "source": [
    "def pipe_line():\n",
    "    from sklearn.pipeline import Pipeline\n",
    "    from sklearn.preprocessing import PolynomialFeatures\n",
    "    polynomial_regression=Pipeline([\n",
    "        (\"poly_features\",PolynomialFeatures(degree=10,include_bias=False)),\n",
    "        (\"lin_reg\",LinearRegression())\n",
    "    ])\n",
    "    return polynomial_regression\n",
    "    "
   ]
  },
  {
   "cell_type": "code",
   "execution_count": 53,
   "id": "29381c83",
   "metadata": {
    "execution": {
     "iopub.execute_input": "2024-02-12T08:40:37.294008Z",
     "iopub.status.busy": "2024-02-12T08:40:37.293625Z",
     "iopub.status.idle": "2024-02-12T08:40:37.861889Z",
     "shell.execute_reply": "2024-02-12T08:40:37.860713Z"
    },
    "papermill": {
     "duration": 0.605433,
     "end_time": "2024-02-12T08:40:37.864599",
     "exception": false,
     "start_time": "2024-02-12T08:40:37.259166",
     "status": "completed"
    },
    "tags": []
   },
   "outputs": [
    {
     "data": {
      "image/png": "[encoded data removed]",
      "text/plain": [
       "<Figure size 640x480 with 1 Axes>"
      ]
     },
     "metadata": {},
     "output_type": "display_data"
    }
   ],
   "source": [
    "plot_learning_curve(pipe_line(),X,y)"
   ]
  },
  {
   "cell_type": "code",
   "execution_count": 54,
   "id": "f7990860",
   "metadata": {
    "execution": {
     "iopub.execute_input": "2024-02-12T08:40:37.934375Z",
     "iopub.status.busy": "2024-02-12T08:40:37.933907Z",
     "iopub.status.idle": "2024-02-12T08:40:37.940983Z",
     "shell.execute_reply": "2024-02-12T08:40:37.939756Z"
    },
    "papermill": {
     "duration": 0.04574,
     "end_time": "2024-02-12T08:40:37.943998",
     "exception": false,
     "start_time": "2024-02-12T08:40:37.898258",
     "status": "completed"
    },
    "tags": []
   },
   "outputs": [
    {
     "data": {
      "text/plain": [
       "(80, 1)"
      ]
     },
     "execution_count": 54,
     "metadata": {},
     "output_type": "execute_result"
    }
   ],
   "source": [
    "y_train.shape"
   ]
  },
  {
   "cell_type": "code",
   "execution_count": 55,
   "id": "8a98ea1f",
   "metadata": {
    "execution": {
     "iopub.execute_input": "2024-02-12T08:40:38.013598Z",
     "iopub.status.busy": "2024-02-12T08:40:38.013175Z",
     "iopub.status.idle": "2024-02-12T08:40:38.018441Z",
     "shell.execute_reply": "2024-02-12T08:40:38.017557Z"
    },
    "papermill": {
     "duration": 0.042744,
     "end_time": "2024-02-12T08:40:38.020655",
     "exception": false,
     "start_time": "2024-02-12T08:40:37.977911",
     "status": "completed"
    },
    "tags": []
   },
   "outputs": [],
   "source": [
    "from sklearn.pipeline import Pipeline\n",
    "from sklearn.preprocessing import PolynomialFeatures\n",
    "polynomial_regression=Pipeline([\n",
    "        (\"poly_features\",PolynomialFeatures(degree=10,include_bias=False)),\n",
    "        (\"lin_reg\",LinearRegression())\n",
    "])"
   ]
  },
  {
   "cell_type": "code",
   "execution_count": 56,
   "id": "b1e986f7",
   "metadata": {
    "execution": {
     "iopub.execute_input": "2024-02-12T08:40:38.089447Z",
     "iopub.status.busy": "2024-02-12T08:40:38.089039Z",
     "iopub.status.idle": "2024-02-12T08:40:38.536563Z",
     "shell.execute_reply": "2024-02-12T08:40:38.535314Z"
    },
    "papermill": {
     "duration": 0.485126,
     "end_time": "2024-02-12T08:40:38.539279",
     "exception": false,
     "start_time": "2024-02-12T08:40:38.054153",
     "status": "completed"
    },
    "tags": []
   },
   "outputs": [
    {
     "data": {
      "image/png": "[encoded data removed]",
      "text/plain": [
       "<Figure size 640x480 with 1 Axes>"
      ]
     },
     "metadata": {},
     "output_type": "display_data"
    }
   ],
   "source": [
    "plot_learning_curve(polynomial_regression,X,y)"
   ]
  },
  {
   "cell_type": "markdown",
   "id": "5f785e05",
   "metadata": {
    "papermill": {
     "duration": 0.042941,
     "end_time": "2024-02-12T08:40:38.623838",
     "exception": false,
     "start_time": "2024-02-12T08:40:38.580897",
     "status": "completed"
    },
    "tags": []
   },
   "source": [
    "**REGULARIZED MODEL:1-RIDGE 2.LASSO,3.ELASTICNET**"
   ]
  },
  {
   "cell_type": "markdown",
   "id": "3606f55a",
   "metadata": {
    "papermill": {
     "duration": 0.034414,
     "end_time": "2024-02-12T08:40:38.693060",
     "exception": false,
     "start_time": "2024-02-12T08:40:38.658646",
     "status": "completed"
    },
    "tags": []
   },
   "source": [
    "**RIDGE**"
   ]
  },
  {
   "cell_type": "code",
   "execution_count": 57,
   "id": "2d303dc8",
   "metadata": {
    "execution": {
     "iopub.execute_input": "2024-02-12T08:40:38.768418Z",
     "iopub.status.busy": "2024-02-12T08:40:38.767991Z",
     "iopub.status.idle": "2024-02-12T08:40:38.784087Z",
     "shell.execute_reply": "2024-02-12T08:40:38.782840Z"
    },
    "papermill": {
     "duration": 0.054293,
     "end_time": "2024-02-12T08:40:38.786430",
     "exception": false,
     "start_time": "2024-02-12T08:40:38.732137",
     "status": "completed"
    },
    "tags": []
   },
   "outputs": [
    {
     "data": {
      "text/plain": [
       "array([[4.96482133]])"
      ]
     },
     "execution_count": 57,
     "metadata": {},
     "output_type": "execute_result"
    }
   ],
   "source": [
    "from sklearn.linear_model import Ridge\n",
    "ridge_reg=Ridge(alpha=1,solver=\"cholesky\")\n",
    "ridge_reg.fit(X,y)\n",
    "ridge_reg.predict([[1.5]])"
   ]
  },
  {
   "cell_type": "code",
   "execution_count": 58,
   "id": "cc10a5e8",
   "metadata": {
    "execution": {
     "iopub.execute_input": "2024-02-12T08:40:38.856018Z",
     "iopub.status.busy": "2024-02-12T08:40:38.855623Z",
     "iopub.status.idle": "2024-02-12T08:40:38.865751Z",
     "shell.execute_reply": "2024-02-12T08:40:38.864474Z"
    },
    "papermill": {
     "duration": 0.048485,
     "end_time": "2024-02-12T08:40:38.868740",
     "exception": false,
     "start_time": "2024-02-12T08:40:38.820255",
     "status": "completed"
    },
    "tags": []
   },
   "outputs": [
    {
     "data": {
      "text/plain": [
       "array([4.95036713])"
      ]
     },
     "execution_count": 58,
     "metadata": {},
     "output_type": "execute_result"
    }
   ],
   "source": [
    "from sklearn.linear_model import SGDRegressor\n",
    "sgd_reg=SGDRegressor(penalty=\"l2\")\n",
    "sgd_reg.fit(X,y.ravel())\n",
    "sgd_reg.predict([[1.5]])"
   ]
  },
  {
   "cell_type": "markdown",
   "id": "b69b9ef0",
   "metadata": {
    "papermill": {
     "duration": 0.035224,
     "end_time": "2024-02-12T08:40:38.950644",
     "exception": false,
     "start_time": "2024-02-12T08:40:38.915420",
     "status": "completed"
    },
    "tags": []
   },
   "source": [
    "**LASSO**"
   ]
  },
  {
   "cell_type": "code",
   "execution_count": 59,
   "id": "ba319641",
   "metadata": {
    "execution": {
     "iopub.execute_input": "2024-02-12T08:40:39.031197Z",
     "iopub.status.busy": "2024-02-12T08:40:39.029905Z",
     "iopub.status.idle": "2024-02-12T08:40:39.043310Z",
     "shell.execute_reply": "2024-02-12T08:40:39.042244Z"
    },
    "papermill": {
     "duration": 0.055767,
     "end_time": "2024-02-12T08:40:39.045588",
     "exception": false,
     "start_time": "2024-02-12T08:40:38.989821",
     "status": "completed"
    },
    "tags": []
   },
   "outputs": [
    {
     "data": {
      "text/plain": [
       "array([4.91691267])"
      ]
     },
     "execution_count": 59,
     "metadata": {},
     "output_type": "execute_result"
    }
   ],
   "source": [
    "from sklearn.linear_model import Lasso\n",
    "lasso_reg=Lasso(alpha=0.1)\n",
    "lasso_reg.fit(X,y)\n",
    "lasso_reg.predict([[1.5]])"
   ]
  },
  {
   "cell_type": "markdown",
   "id": "45925c74",
   "metadata": {
    "papermill": {
     "duration": 0.034537,
     "end_time": "2024-02-12T08:40:39.116471",
     "exception": false,
     "start_time": "2024-02-12T08:40:39.081934",
     "status": "completed"
    },
    "tags": []
   },
   "source": [
    "**ElasticNet**"
   ]
  },
  {
   "cell_type": "code",
   "execution_count": 60,
   "id": "fe5c3187",
   "metadata": {
    "execution": {
     "iopub.execute_input": "2024-02-12T08:40:39.190202Z",
     "iopub.status.busy": "2024-02-12T08:40:39.189803Z",
     "iopub.status.idle": "2024-02-12T08:40:39.202961Z",
     "shell.execute_reply": "2024-02-12T08:40:39.201986Z"
    },
    "papermill": {
     "duration": 0.052381,
     "end_time": "2024-02-12T08:40:39.205464",
     "exception": false,
     "start_time": "2024-02-12T08:40:39.153083",
     "status": "completed"
    },
    "tags": []
   },
   "outputs": [
    {
     "data": {
      "text/plain": [
       "array([4.91544454])"
      ]
     },
     "execution_count": 60,
     "metadata": {},
     "output_type": "execute_result"
    }
   ],
   "source": [
    "from sklearn.linear_model import ElasticNet\n",
    "elastic_reg=ElasticNet(alpha=0.1,l1_ratio=0.5)\n",
    "elastic_reg.fit(X,y)\n",
    "elastic_reg.predict([[1.5]])"
   ]
  },
  {
   "cell_type": "code",
   "execution_count": 61,
   "id": "0f905491",
   "metadata": {
    "execution": {
     "iopub.execute_input": "2024-02-12T08:40:39.278570Z",
     "iopub.status.busy": "2024-02-12T08:40:39.278118Z",
     "iopub.status.idle": "2024-02-12T08:40:39.428135Z",
     "shell.execute_reply": "2024-02-12T08:40:39.426952Z"
    },
    "papermill": {
     "duration": 0.189872,
     "end_time": "2024-02-12T08:40:39.431412",
     "exception": false,
     "start_time": "2024-02-12T08:40:39.241540",
     "status": "completed"
    },
    "tags": []
   },
   "outputs": [
    {
     "data": {
      "text/plain": [
       "['data',\n",
       " 'target',\n",
       " 'frame',\n",
       " 'target_names',\n",
       " 'DESCR',\n",
       " 'feature_names',\n",
       " 'filename',\n",
       " 'data_module']"
      ]
     },
     "execution_count": 61,
     "metadata": {},
     "output_type": "execute_result"
    }
   ],
   "source": [
    "from sklearn import datasets\n",
    "iris=datasets.load_iris()\n",
    "list(iris.keys())"
   ]
  },
  {
   "cell_type": "code",
   "execution_count": 62,
   "id": "7a591ce1",
   "metadata": {
    "execution": {
     "iopub.execute_input": "2024-02-12T08:40:39.511414Z",
     "iopub.status.busy": "2024-02-12T08:40:39.510961Z",
     "iopub.status.idle": "2024-02-12T08:40:39.520371Z",
     "shell.execute_reply": "2024-02-12T08:40:39.519036Z"
    },
    "papermill": {
     "duration": 0.050171,
     "end_time": "2024-02-12T08:40:39.523302",
     "exception": false,
     "start_time": "2024-02-12T08:40:39.473131",
     "status": "completed"
    },
    "tags": []
   },
   "outputs": [
    {
     "data": {
      "text/plain": [
       "array([0, 0, 0, 0, 0, 0, 0, 0, 0, 0, 0, 0, 0, 0, 0, 0, 0, 0, 0, 0, 0, 0,\n",
       "       0, 0, 0, 0, 0, 0, 0, 0, 0, 0, 0, 0, 0, 0, 0, 0, 0, 0, 0, 0, 0, 0,\n",
       "       0, 0, 0, 0, 0, 0, 1, 1, 1, 1, 1, 1, 1, 1, 1, 1, 1, 1, 1, 1, 1, 1,\n",
       "       1, 1, 1, 1, 1, 1, 1, 1, 1, 1, 1, 1, 1, 1, 1, 1, 1, 1, 1, 1, 1, 1,\n",
       "       1, 1, 1, 1, 1, 1, 1, 1, 1, 1, 1, 1, 2, 2, 2, 2, 2, 2, 2, 2, 2, 2,\n",
       "       2, 2, 2, 2, 2, 2, 2, 2, 2, 2, 2, 2, 2, 2, 2, 2, 2, 2, 2, 2, 2, 2,\n",
       "       2, 2, 2, 2, 2, 2, 2, 2, 2, 2, 2, 2, 2, 2, 2, 2, 2, 2])"
      ]
     },
     "execution_count": 62,
     "metadata": {},
     "output_type": "execute_result"
    }
   ],
   "source": [
    "iris[\"target\"]"
   ]
  },
  {
   "cell_type": "code",
   "execution_count": 63,
   "id": "2f50dae2",
   "metadata": {
    "execution": {
     "iopub.execute_input": "2024-02-12T08:40:39.595829Z",
     "iopub.status.busy": "2024-02-12T08:40:39.595335Z",
     "iopub.status.idle": "2024-02-12T08:40:39.603594Z",
     "shell.execute_reply": "2024-02-12T08:40:39.602359Z"
    },
    "papermill": {
     "duration": 0.047248,
     "end_time": "2024-02-12T08:40:39.605994",
     "exception": false,
     "start_time": "2024-02-12T08:40:39.558746",
     "status": "completed"
    },
    "tags": []
   },
   "outputs": [
    {
     "data": {
      "text/plain": [
       "array(['setosa', 'versicolor', 'virginica'], dtype='<U10')"
      ]
     },
     "execution_count": 63,
     "metadata": {},
     "output_type": "execute_result"
    }
   ],
   "source": [
    "iris[\"target_names\"]"
   ]
  },
  {
   "cell_type": "code",
   "execution_count": 64,
   "id": "b2c68d2b",
   "metadata": {
    "execution": {
     "iopub.execute_input": "2024-02-12T08:40:39.679292Z",
     "iopub.status.busy": "2024-02-12T08:40:39.678765Z",
     "iopub.status.idle": "2024-02-12T08:40:39.687461Z",
     "shell.execute_reply": "2024-02-12T08:40:39.686090Z"
    },
    "papermill": {
     "duration": 0.048695,
     "end_time": "2024-02-12T08:40:39.689986",
     "exception": false,
     "start_time": "2024-02-12T08:40:39.641291",
     "status": "completed"
    },
    "tags": []
   },
   "outputs": [
    {
     "data": {
      "text/plain": [
       "['sepal length (cm)',\n",
       " 'sepal width (cm)',\n",
       " 'petal length (cm)',\n",
       " 'petal width (cm)']"
      ]
     },
     "execution_count": 64,
     "metadata": {},
     "output_type": "execute_result"
    }
   ],
   "source": [
    "iris[\"feature_names\"]"
   ]
  },
  {
   "cell_type": "markdown",
   "id": "c7f7a5c7",
   "metadata": {
    "papermill": {
     "duration": 0.034586,
     "end_time": "2024-02-12T08:40:39.759597",
     "exception": false,
     "start_time": "2024-02-12T08:40:39.725011",
     "status": "completed"
    },
    "tags": []
   },
   "source": [
    "**column names aresepal length (cm)',\n",
    " 'sepal width (cm)',\n",
    " 'petal length (cm)',\n",
    " 'petal width**"
   ]
  },
  {
   "cell_type": "markdown",
   "id": "a36d914a",
   "metadata": {
    "papermill": {
     "duration": 0.034413,
     "end_time": "2024-02-12T08:40:39.831427",
     "exception": false,
     "start_time": "2024-02-12T08:40:39.797014",
     "status": "completed"
    },
    "tags": []
   },
   "source": [
    "**in data there are 4 columns named sepal length (cm)',\n",
    " 'sepal width (cm)',\n",
    " 'petal length (cm)',\n",
    " 'petal width**"
   ]
  },
  {
   "cell_type": "code",
   "execution_count": 65,
   "id": "5eea16b7",
   "metadata": {
    "execution": {
     "iopub.execute_input": "2024-02-12T08:40:39.902860Z",
     "iopub.status.busy": "2024-02-12T08:40:39.902473Z",
     "iopub.status.idle": "2024-02-12T08:40:39.918138Z",
     "shell.execute_reply": "2024-02-12T08:40:39.916984Z"
    },
    "papermill": {
     "duration": 0.054091,
     "end_time": "2024-02-12T08:40:39.920586",
     "exception": false,
     "start_time": "2024-02-12T08:40:39.866495",
     "status": "completed"
    },
    "tags": []
   },
   "outputs": [
    {
     "data": {
      "text/plain": [
       "{'data': array([[5.1, 3.5, 1.4, 0.2],\n",
       "        [4.9, 3. , 1.4, 0.2],\n",
       "        [4.7, 3.2, 1.3, 0.2],\n",
       "        [4.6, 3.1, 1.5, 0.2],\n",
       "        [5. , 3.6, 1.4, 0.2],\n",
       "        [5.4, 3.9, 1.7, 0.4],\n",
       "        [4.6, 3.4, 1.4, 0.3],\n",
       "        [5. , 3.4, 1.5, 0.2],\n",
       "        [4.4, 2.9, 1.4, 0.2],\n",
       "        [4.9, 3.1, 1.5, 0.1],\n",
       "        [5.4, 3.7, 1.5, 0.2],\n",
       "        [4.8, 3.4, 1.6, 0.2],\n",
       "        [4.8, 3. , 1.4, 0.1],\n",
       "        [4.3, 3. , 1.1, 0.1],\n",
       "        [5.8, 4. , 1.2, 0.2],\n",
       "        [5.7, 4.4, 1.5, 0.4],\n",
       "        [5.4, 3.9, 1.3, 0.4],\n",
       "        [5.1, 3.5, 1.4, 0.3],\n",
       "        [5.7, 3.8, 1.7, 0.3],\n",
       "        [5.1, 3.8, 1.5, 0.3],\n",
       "        [5.4, 3.4, 1.7, 0.2],\n",
       "        [5.1, 3.7, 1.5, 0.4],\n",
       "        [4.6, 3.6, 1. , 0.2],\n",
       "        [5.1, 3.3, 1.7, 0.5],\n",
       "        [4.8, 3.4, 1.9, 0.2],\n",
       "        [5. , 3. , 1.6, 0.2],\n",
       "        [5. , 3.4, 1.6, 0.4],\n",
       "        [5.2, 3.5, 1.5, 0.2],\n",
       "        [5.2, 3.4, 1.4, 0.2],\n",
       "        [4.7, 3.2, 1.6, 0.2],\n",
       "        [4.8, 3.1, 1.6, 0.2],\n",
       "        [5.4, 3.4, 1.5, 0.4],\n",
       "        [5.2, 4.1, 1.5, 0.1],\n",
       "        [5.5, 4.2, 1.4, 0.2],\n",
       "        [4.9, 3.1, 1.5, 0.2],\n",
       "        [5. , 3.2, 1.2, 0.2],\n",
       "        [5.5, 3.5, 1.3, 0.2],\n",
       "        [4.9, 3.6, 1.4, 0.1],\n",
       "        [4.4, 3. , 1.3, 0.2],\n",
       "        [5.1, 3.4, 1.5, 0.2],\n",
       "        [5. , 3.5, 1.3, 0.3],\n",
       "        [4.5, 2.3, 1.3, 0.3],\n",
       "        [4.4, 3.2, 1.3, 0.2],\n",
       "        [5. , 3.5, 1.6, 0.6],\n",
       "        [5.1, 3.8, 1.9, 0.4],\n",
       "        [4.8, 3. , 1.4, 0.3],\n",
       "        [5.1, 3.8, 1.6, 0.2],\n",
       "        [4.6, 3.2, 1.4, 0.2],\n",
       "        [5.3, 3.7, 1.5, 0.2],\n",
       "        [5. , 3.3, 1.4, 0.2],\n",
       "        [7. , 3.2, 4.7, 1.4],\n",
       "        [6.4, 3.2, 4.5, 1.5],\n",
       "        [6.9, 3.1, 4.9, 1.5],\n",
       "        [5.5, 2.3, 4. , 1.3],\n",
       "        [6.5, 2.8, 4.6, 1.5],\n",
       "        [5.7, 2.8, 4.5, 1.3],\n",
       "        [6.3, 3.3, 4.7, 1.6],\n",
       "        [4.9, 2.4, 3.3, 1. ],\n",
       "        [6.6, 2.9, 4.6, 1.3],\n",
       "        [5.2, 2.7, 3.9, 1.4],\n",
       "        [5. , 2. , 3.5, 1. ],\n",
       "        [5.9, 3. , 4.2, 1.5],\n",
       "        [6. , 2.2, 4. , 1. ],\n",
       "        [6.1, 2.9, 4.7, 1.4],\n",
       "        [5.6, 2.9, 3.6, 1.3],\n",
       "        [6.7, 3.1, 4.4, 1.4],\n",
       "        [5.6, 3. , 4.5, 1.5],\n",
       "        [5.8, 2.7, 4.1, 1. ],\n",
       "        [6.2, 2.2, 4.5, 1.5],\n",
       "        [5.6, 2.5, 3.9, 1.1],\n",
       "        [5.9, 3.2, 4.8, 1.8],\n",
       "        [6.1, 2.8, 4. , 1.3],\n",
       "        [6.3, 2.5, 4.9, 1.5],\n",
       "        [6.1, 2.8, 4.7, 1.2],\n",
       "        [6.4, 2.9, 4.3, 1.3],\n",
       "        [6.6, 3. , 4.4, 1.4],\n",
       "        [6.8, 2.8, 4.8, 1.4],\n",
       "        [6.7, 3. , 5. , 1.7],\n",
       "        [6. , 2.9, 4.5, 1.5],\n",
       "        [5.7, 2.6, 3.5, 1. ],\n",
       "        [5.5, 2.4, 3.8, 1.1],\n",
       "        [5.5, 2.4, 3.7, 1. ],\n",
       "        [5.8, 2.7, 3.9, 1.2],\n",
       "        [6. , 2.7, 5.1, 1.6],\n",
       "        [5.4, 3. , 4.5, 1.5],\n",
       "        [6. , 3.4, 4.5, 1.6],\n",
       "        [6.7, 3.1, 4.7, 1.5],\n",
       "        [6.3, 2.3, 4.4, 1.3],\n",
       "        [5.6, 3. , 4.1, 1.3],\n",
       "        [5.5, 2.5, 4. , 1.3],\n",
       "        [5.5, 2.6, 4.4, 1.2],\n",
       "        [6.1, 3. , 4.6, 1.4],\n",
       "        [5.8, 2.6, 4. , 1.2],\n",
       "        [5. , 2.3, 3.3, 1. ],\n",
       "        [5.6, 2.7, 4.2, 1.3],\n",
       "        [5.7, 3. , 4.2, 1.2],\n",
       "        [5.7, 2.9, 4.2, 1.3],\n",
       "        [6.2, 2.9, 4.3, 1.3],\n",
       "        [5.1, 2.5, 3. , 1.1],\n",
       "        [5.7, 2.8, 4.1, 1.3],\n",
       "        [6.3, 3.3, 6. , 2.5],\n",
       "        [5.8, 2.7, 5.1, 1.9],\n",
       "        [7.1, 3. , 5.9, 2.1],\n",
       "        [6.3, 2.9, 5.6, 1.8],\n",
       "        [6.5, 3. , 5.8, 2.2],\n",
       "        [7.6, 3. , 6.6, 2.1],\n",
       "        [4.9, 2.5, 4.5, 1.7],\n",
       "        [7.3, 2.9, 6.3, 1.8],\n",
       "        [6.7, 2.5, 5.8, 1.8],\n",
       "        [7.2, 3.6, 6.1, 2.5],\n",
       "        [6.5, 3.2, 5.1, 2. ],\n",
       "        [6.4, 2.7, 5.3, 1.9],\n",
       "        [6.8, 3. , 5.5, 2.1],\n",
       "        [5.7, 2.5, 5. , 2. ],\n",
       "        [5.8, 2.8, 5.1, 2.4],\n",
       "        [6.4, 3.2, 5.3, 2.3],\n",
       "        [6.5, 3. , 5.5, 1.8],\n",
       "        [7.7, 3.8, 6.7, 2.2],\n",
       "        [7.7, 2.6, 6.9, 2.3],\n",
       "        [6. , 2.2, 5. , 1.5],\n",
       "        [6.9, 3.2, 5.7, 2.3],\n",
       "        [5.6, 2.8, 4.9, 2. ],\n",
       "        [7.7, 2.8, 6.7, 2. ],\n",
       "        [6.3, 2.7, 4.9, 1.8],\n",
       "        [6.7, 3.3, 5.7, 2.1],\n",
       "        [7.2, 3.2, 6. , 1.8],\n",
       "        [6.2, 2.8, 4.8, 1.8],\n",
       "        [6.1, 3. , 4.9, 1.8],\n",
       "        [6.4, 2.8, 5.6, 2.1],\n",
       "        [7.2, 3. , 5.8, 1.6],\n",
       "        [7.4, 2.8, 6.1, 1.9],\n",
       "        [7.9, 3.8, 6.4, 2. ],\n",
       "        [6.4, 2.8, 5.6, 2.2],\n",
       "        [6.3, 2.8, 5.1, 1.5],\n",
       "        [6.1, 2.6, 5.6, 1.4],\n",
       "        [7.7, 3. , 6.1, 2.3],\n",
       "        [6.3, 3.4, 5.6, 2.4],\n",
       "        [6.4, 3.1, 5.5, 1.8],\n",
       "        [6. , 3. , 4.8, 1.8],\n",
       "        [6.9, 3.1, 5.4, 2.1],\n",
       "        [6.7, 3.1, 5.6, 2.4],\n",
       "        [6.9, 3.1, 5.1, 2.3],\n",
       "        [5.8, 2.7, 5.1, 1.9],\n",
       "        [6.8, 3.2, 5.9, 2.3],\n",
       "        [6.7, 3.3, 5.7, 2.5],\n",
       "        [6.7, 3. , 5.2, 2.3],\n",
       "        [6.3, 2.5, 5. , 1.9],\n",
       "        [6.5, 3. , 5.2, 2. ],\n",
       "        [6.2, 3.4, 5.4, 2.3],\n",
       "        [5.9, 3. , 5.1, 1.8]]),\n",
       " 'target': array([0, 0, 0, 0, 0, 0, 0, 0, 0, 0, 0, 0, 0, 0, 0, 0, 0, 0, 0, 0, 0, 0,\n",
       "        0, 0, 0, 0, 0, 0, 0, 0, 0, 0, 0, 0, 0, 0, 0, 0, 0, 0, 0, 0, 0, 0,\n",
       "        0, 0, 0, 0, 0, 0, 1, 1, 1, 1, 1, 1, 1, 1, 1, 1, 1, 1, 1, 1, 1, 1,\n",
       "        1, 1, 1, 1, 1, 1, 1, 1, 1, 1, 1, 1, 1, 1, 1, 1, 1, 1, 1, 1, 1, 1,\n",
       "        1, 1, 1, 1, 1, 1, 1, 1, 1, 1, 1, 1, 2, 2, 2, 2, 2, 2, 2, 2, 2, 2,\n",
       "        2, 2, 2, 2, 2, 2, 2, 2, 2, 2, 2, 2, 2, 2, 2, 2, 2, 2, 2, 2, 2, 2,\n",
       "        2, 2, 2, 2, 2, 2, 2, 2, 2, 2, 2, 2, 2, 2, 2, 2, 2, 2]),\n",
       " 'frame': None,\n",
       " 'target_names': array(['setosa', 'versicolor', 'virginica'], dtype='<U10'),\n",
       " 'DESCR': '.. _iris_dataset:\\n\\nIris plants dataset\\n--------------------\\n\\n**Data Set Characteristics:**\\n\\n    :Number of Instances: 150 (50 in each of three classes)\\n    :Number of Attributes: 4 numeric, predictive attributes and the class\\n    :Attribute Information:\\n        - sepal length in cm\\n        - sepal width in cm\\n        - petal length in cm\\n        - petal width in cm\\n        - class:\\n                - Iris-Setosa\\n                - Iris-Versicolour\\n                - Iris-Virginica\\n                \\n    :Summary Statistics:\\n\\n    ============== ==== ==== ======= ===== ====================\\n                    Min  Max   Mean    SD   Class Correlation\\n    ============== ==== ==== ======= ===== ====================\\n    sepal length:   4.3  7.9   5.84   0.83    0.7826\\n    sepal width:    2.0  4.4   3.05   0.43   -0.4194\\n    petal length:   1.0  6.9   3.76   1.76    0.9490  (high!)\\n    petal width:    0.1  2.5   1.20   0.76    0.9565  (high!)\\n    ============== ==== ==== ======= ===== ====================\\n\\n    :Missing Attribute Values: None\\n    :Class Distribution: 33.3% for each of 3 classes.\\n    :Creator: R.A. Fisher\\n    :Donor: Michael Marshall (MARSHALL%PLU@io.arc.nasa.gov)\\n    :Date: July, 1988\\n\\nThe famous Iris database, first used by Sir R.A. Fisher. The dataset is taken\\nfrom Fisher\\'s paper. Note that it\\'s the same as in R, but not as in the UCI\\nMachine Learning Repository, which has two wrong data points.\\n\\nThis is perhaps the best known database to be found in the\\npattern recognition literature.  Fisher\\'s paper is a classic in the field and\\nis referenced frequently to this day.  (See Duda & Hart, for example.)  The\\ndata set contains 3 classes of 50 instances each, where each class refers to a\\ntype of iris plant.  One class is linearly separable from the other 2; the\\nlatter are NOT linearly separable from each other.\\n\\n.. topic:: References\\n\\n   - Fisher, R.A. \"The use of multiple measurements in taxonomic problems\"\\n     Annual Eugenics, 7, Part II, 179-188 (1936); also in \"Contributions to\\n     Mathematical Statistics\" (John Wiley, NY, 1950).\\n   - Duda, R.O., & Hart, P.E. (1973) Pattern Classification and Scene Analysis.\\n     (Q327.D83) John Wiley & Sons.  ISBN 0-471-22361-1.  See page 218.\\n   - Dasarathy, B.V. (1980) \"Nosing Around the Neighborhood: A New System\\n     Structure and Classification Rule for Recognition in Partially Exposed\\n     Environments\".  IEEE Transactions on Pattern Analysis and Machine\\n     Intelligence, Vol. PAMI-2, No. 1, 67-71.\\n   - Gates, G.W. (1972) \"The Reduced Nearest Neighbor Rule\".  IEEE Transactions\\n     on Information Theory, May 1972, 431-433.\\n   - See also: 1988 MLC Proceedings, 54-64.  Cheeseman et al\"s AUTOCLASS II\\n     conceptual clustering system finds 3 classes in the data.\\n   - Many, many more ...',\n",
       " 'feature_names': ['sepal length (cm)',\n",
       "  'sepal width (cm)',\n",
       "  'petal length (cm)',\n",
       "  'petal width (cm)'],\n",
       " 'filename': 'iris.csv',\n",
       " 'data_module': 'sklearn.datasets.data'}"
      ]
     },
     "execution_count": 65,
     "metadata": {},
     "output_type": "execute_result"
    }
   ],
   "source": [
    "iris"
   ]
  },
  {
   "cell_type": "code",
   "execution_count": 66,
   "id": "aa53d90e",
   "metadata": {
    "execution": {
     "iopub.execute_input": "2024-02-12T08:40:39.992978Z",
     "iopub.status.busy": "2024-02-12T08:40:39.992562Z",
     "iopub.status.idle": "2024-02-12T08:40:39.997308Z",
     "shell.execute_reply": "2024-02-12T08:40:39.996256Z"
    },
    "papermill": {
     "duration": 0.043324,
     "end_time": "2024-02-12T08:40:39.999449",
     "exception": false,
     "start_time": "2024-02-12T08:40:39.956125",
     "status": "completed"
    },
    "tags": []
   },
   "outputs": [],
   "source": [
    "#calculate petal width by slicing the data\n",
    "X=iris[\"data\"][::,3::]"
   ]
  },
  {
   "cell_type": "code",
   "execution_count": 67,
   "id": "0f809fdc",
   "metadata": {
    "execution": {
     "iopub.execute_input": "2024-02-12T08:40:40.073043Z",
     "iopub.status.busy": "2024-02-12T08:40:40.072249Z",
     "iopub.status.idle": "2024-02-12T08:40:40.081934Z",
     "shell.execute_reply": "2024-02-12T08:40:40.080940Z"
    },
    "papermill": {
     "duration": 0.048765,
     "end_time": "2024-02-12T08:40:40.084071",
     "exception": false,
     "start_time": "2024-02-12T08:40:40.035306",
     "status": "completed"
    },
    "tags": []
   },
   "outputs": [
    {
     "data": {
      "text/plain": [
       "array([[0.2],\n",
       "       [0.2],\n",
       "       [0.2],\n",
       "       [0.2],\n",
       "       [0.2],\n",
       "       [0.4],\n",
       "       [0.3],\n",
       "       [0.2],\n",
       "       [0.2],\n",
       "       [0.1],\n",
       "       [0.2],\n",
       "       [0.2],\n",
       "       [0.1],\n",
       "       [0.1],\n",
       "       [0.2],\n",
       "       [0.4],\n",
       "       [0.4],\n",
       "       [0.3],\n",
       "       [0.3],\n",
       "       [0.3],\n",
       "       [0.2],\n",
       "       [0.4],\n",
       "       [0.2],\n",
       "       [0.5],\n",
       "       [0.2],\n",
       "       [0.2],\n",
       "       [0.4],\n",
       "       [0.2],\n",
       "       [0.2],\n",
       "       [0.2],\n",
       "       [0.2],\n",
       "       [0.4],\n",
       "       [0.1],\n",
       "       [0.2],\n",
       "       [0.2],\n",
       "       [0.2],\n",
       "       [0.2],\n",
       "       [0.1],\n",
       "       [0.2],\n",
       "       [0.2],\n",
       "       [0.3],\n",
       "       [0.3],\n",
       "       [0.2],\n",
       "       [0.6],\n",
       "       [0.4],\n",
       "       [0.3],\n",
       "       [0.2],\n",
       "       [0.2],\n",
       "       [0.2],\n",
       "       [0.2],\n",
       "       [1.4],\n",
       "       [1.5],\n",
       "       [1.5],\n",
       "       [1.3],\n",
       "       [1.5],\n",
       "       [1.3],\n",
       "       [1.6],\n",
       "       [1. ],\n",
       "       [1.3],\n",
       "       [1.4],\n",
       "       [1. ],\n",
       "       [1.5],\n",
       "       [1. ],\n",
       "       [1.4],\n",
       "       [1.3],\n",
       "       [1.4],\n",
       "       [1.5],\n",
       "       [1. ],\n",
       "       [1.5],\n",
       "       [1.1],\n",
       "       [1.8],\n",
       "       [1.3],\n",
       "       [1.5],\n",
       "       [1.2],\n",
       "       [1.3],\n",
       "       [1.4],\n",
       "       [1.4],\n",
       "       [1.7],\n",
       "       [1.5],\n",
       "       [1. ],\n",
       "       [1.1],\n",
       "       [1. ],\n",
       "       [1.2],\n",
       "       [1.6],\n",
       "       [1.5],\n",
       "       [1.6],\n",
       "       [1.5],\n",
       "       [1.3],\n",
       "       [1.3],\n",
       "       [1.3],\n",
       "       [1.2],\n",
       "       [1.4],\n",
       "       [1.2],\n",
       "       [1. ],\n",
       "       [1.3],\n",
       "       [1.2],\n",
       "       [1.3],\n",
       "       [1.3],\n",
       "       [1.1],\n",
       "       [1.3],\n",
       "       [2.5],\n",
       "       [1.9],\n",
       "       [2.1],\n",
       "       [1.8],\n",
       "       [2.2],\n",
       "       [2.1],\n",
       "       [1.7],\n",
       "       [1.8],\n",
       "       [1.8],\n",
       "       [2.5],\n",
       "       [2. ],\n",
       "       [1.9],\n",
       "       [2.1],\n",
       "       [2. ],\n",
       "       [2.4],\n",
       "       [2.3],\n",
       "       [1.8],\n",
       "       [2.2],\n",
       "       [2.3],\n",
       "       [1.5],\n",
       "       [2.3],\n",
       "       [2. ],\n",
       "       [2. ],\n",
       "       [1.8],\n",
       "       [2.1],\n",
       "       [1.8],\n",
       "       [1.8],\n",
       "       [1.8],\n",
       "       [2.1],\n",
       "       [1.6],\n",
       "       [1.9],\n",
       "       [2. ],\n",
       "       [2.2],\n",
       "       [1.5],\n",
       "       [1.4],\n",
       "       [2.3],\n",
       "       [2.4],\n",
       "       [1.8],\n",
       "       [1.8],\n",
       "       [2.1],\n",
       "       [2.4],\n",
       "       [2.3],\n",
       "       [1.9],\n",
       "       [2.3],\n",
       "       [2.5],\n",
       "       [2.3],\n",
       "       [1.9],\n",
       "       [2. ],\n",
       "       [2.3],\n",
       "       [1.8]])"
      ]
     },
     "execution_count": 67,
     "metadata": {},
     "output_type": "execute_result"
    }
   ],
   "source": [
    "X"
   ]
  },
  {
   "cell_type": "code",
   "execution_count": 68,
   "id": "bf95c65a",
   "metadata": {
    "execution": {
     "iopub.execute_input": "2024-02-12T08:40:40.158915Z",
     "iopub.status.busy": "2024-02-12T08:40:40.157890Z",
     "iopub.status.idle": "2024-02-12T08:40:40.162742Z",
     "shell.execute_reply": "2024-02-12T08:40:40.161943Z"
    },
    "papermill": {
     "duration": 0.044741,
     "end_time": "2024-02-12T08:40:40.164842",
     "exception": false,
     "start_time": "2024-02-12T08:40:40.120101",
     "status": "completed"
    },
    "tags": []
   },
   "outputs": [],
   "source": [
    "# find verginica\n",
    "y=(iris[\"target\"]==2).astype(np.int64)"
   ]
  },
  {
   "cell_type": "code",
   "execution_count": 69,
   "id": "ed05518a",
   "metadata": {
    "execution": {
     "iopub.execute_input": "2024-02-12T08:40:40.241548Z",
     "iopub.status.busy": "2024-02-12T08:40:40.240659Z",
     "iopub.status.idle": "2024-02-12T08:40:40.475676Z",
     "shell.execute_reply": "2024-02-12T08:40:40.474783Z"
    },
    "papermill": {
     "duration": 0.275969,
     "end_time": "2024-02-12T08:40:40.478067",
     "exception": false,
     "start_time": "2024-02-12T08:40:40.202098",
     "status": "completed"
    },
    "tags": []
   },
   "outputs": [
    {
     "data": {
      "image/png": "[encoded data removed]",
      "text/plain": [
       "<Figure size 640x480 with 1 Axes>"
      ]
     },
     "metadata": {},
     "output_type": "display_data"
    }
   ],
   "source": [
    "from sklearn.linear_model import LogisticRegression\n",
    "logistic_reg=LogisticRegression()\n",
    "logistic_reg.fit(X,y)\n",
    "X_new=np.linspace(0,3,1000).reshape(-1,1)\n",
    "y_prob=logistic_reg.predict_proba(X_new)\n",
    "plt.plot(X_new,y_prob[:,1], \"g-\", label=\"Iris-Virginica\")\n",
    "plt.plot(X_new,y_prob[:,0],\"b-\", label=\"Not Iris-Virginica\")\n",
    "plt.xlabel(\"patel_width\")\n",
    "plt.ylabel(\"probability\")\n",
    "plt.legend()\n",
    "plt.show()"
   ]
  },
  {
   "cell_type": "code",
   "execution_count": 70,
   "id": "5054de5a",
   "metadata": {
    "execution": {
     "iopub.execute_input": "2024-02-12T08:40:40.552590Z",
     "iopub.status.busy": "2024-02-12T08:40:40.551714Z",
     "iopub.status.idle": "2024-02-12T08:40:40.556831Z",
     "shell.execute_reply": "2024-02-12T08:40:40.555942Z"
    },
    "papermill": {
     "duration": 0.044782,
     "end_time": "2024-02-12T08:40:40.559068",
     "exception": false,
     "start_time": "2024-02-12T08:40:40.514286",
     "status": "completed"
    },
    "tags": []
   },
   "outputs": [],
   "source": [
    "Z=y_prob[y_prob>0.5]"
   ]
  },
  {
   "cell_type": "code",
   "execution_count": 71,
   "id": "b369d293",
   "metadata": {
    "execution": {
     "iopub.execute_input": "2024-02-12T08:40:40.633613Z",
     "iopub.status.busy": "2024-02-12T08:40:40.632877Z",
     "iopub.status.idle": "2024-02-12T08:40:40.640635Z",
     "shell.execute_reply": "2024-02-12T08:40:40.639352Z"
    },
    "papermill": {
     "duration": 0.048006,
     "end_time": "2024-02-12T08:40:40.643303",
     "exception": false,
     "start_time": "2024-02-12T08:40:40.595297",
     "status": "completed"
    },
    "tags": []
   },
   "outputs": [
    {
     "data": {
      "text/plain": [
       "array([1, 0])"
      ]
     },
     "execution_count": 71,
     "metadata": {},
     "output_type": "execute_result"
    }
   ],
   "source": [
    "logistic_reg.predict([[1.7], [1.5]])"
   ]
  },
  {
   "cell_type": "code",
   "execution_count": null,
   "id": "49495df3",
   "metadata": {
    "papermill": {
     "duration": 0.03574,
     "end_time": "2024-02-12T08:40:40.715405",
     "exception": false,
     "start_time": "2024-02-12T08:40:40.679665",
     "status": "completed"
    },
    "tags": []
   },
   "outputs": [],
   "source": []
  }
 ],
 "metadata": {
  "kaggle": {
   "accelerator": "none",
   "dataSources": [],
   "dockerImageVersionId": 30646,
   "isGpuEnabled": false,
   "isInternetEnabled": true,
   "language": "python",
   "sourceType": "notebook"
  },
  "kernelspec": {
   "display_name": "Python 3",
   "language": "python",
   "name": "python3"
  },
  "language_info": {
   "codemirror_mode": {
    "name": "ipython",
    "version": 3
   },
   "file_extension": ".py",
   "mimetype": "text/x-python",
   "name": "python",
   "nbconvert_exporter": "python",
   "pygments_lexer": "ipython3",
   "version": "3.10.13"
  },
  "papermill": {
   "default_parameters": {},
   "duration": 17.384029,
   "end_time": "2024-02-12T08:40:41.373552",
   "environment_variables": {},
   "exception": null,
   "input_path": "__notebook__.ipynb",
   "output_path": "__notebook__.ipynb",
   "parameters": {},
   "start_time": "2024-02-12T08:40:23.989523",
   "version": "2.5.0"
  }
 },
 "nbformat": 4,
 "nbformat_minor": 5
}
